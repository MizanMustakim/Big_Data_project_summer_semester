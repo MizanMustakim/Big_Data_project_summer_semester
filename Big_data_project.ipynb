{
  "nbformat": 4,
  "nbformat_minor": 0,
  "metadata": {
    "colab": {
      "name": "Big_data_project.ipynb",
      "provenance": [],
      "collapsed_sections": [],
      "include_colab_link": true
    },
    "kernelspec": {
      "name": "python3",
      "display_name": "Python 3"
    },
    "language_info": {
      "name": "python"
    }
  },
  "cells": [
    {
      "cell_type": "markdown",
      "metadata": {
        "id": "view-in-github",
        "colab_type": "text"
      },
      "source": [
        "<a href=\"https://colab.research.google.com/github/MizanMustakim/Big_Data_project_summer_semester/blob/main/Big_data_project.ipynb\" target=\"_parent\"><img src=\"https://colab.research.google.com/assets/colab-badge.svg\" alt=\"Open In Colab\"/></a>"
      ]
    },
    {
      "cell_type": "markdown",
      "metadata": {
        "id": "3GfUSNoUMrLz"
      },
      "source": [
        "# Data Collection work"
      ]
    },
    {
      "cell_type": "markdown",
      "metadata": {
        "id": "OHJpYVqmM3ZL"
      },
      "source": [
        "**Import the libraries**"
      ]
    },
    {
      "cell_type": "code",
      "metadata": {
        "id": "vM0GBsSTpg32"
      },
      "source": [
        "from bs4 import BeautifulSoup\n",
        "import requests\n",
        "import pandas as pd"
      ],
      "execution_count": 1,
      "outputs": []
    },
    {
      "cell_type": "code",
      "metadata": {
        "id": "a3KI_cNdtC87",
        "colab": {
          "base_uri": "https://localhost:8080/"
        },
        "outputId": "916e1b0a-9feb-4158-d50d-ab6f733f9396"
      },
      "source": [
        "from google.colab import drive\n",
        "drive.mount('/content/drive')"
      ],
      "execution_count": 2,
      "outputs": [
        {
          "output_type": "stream",
          "name": "stdout",
          "text": [
            "Drive already mounted at /content/drive; to attempt to forcibly remount, call drive.mount(\"/content/drive\", force_remount=True).\n"
          ]
        }
      ]
    },
    {
      "cell_type": "markdown",
      "metadata": {
        "id": "3v7a2VxIM_yU"
      },
      "source": [
        "**Collecting DATA_1**"
      ]
    },
    {
      "cell_type": "code",
      "metadata": {
        "id": "M7p-bJPnpuUI"
      },
      "source": [
        "url = \"https://www.worldometers.info/coronavirus/?utm_campaign=homeAdvegas1?%22%20%5Cl%22countries\"\n",
        "data = requests.get(url)\n",
        "soup = BeautifulSoup(data.text,'html5lib')"
      ],
      "execution_count": 3,
      "outputs": []
    },
    {
      "cell_type": "code",
      "metadata": {
        "id": "dyKSZNSLp1zI",
        "colab": {
          "base_uri": "https://localhost:8080/"
        },
        "outputId": "e3f0ca2f-149f-4b8d-ea0a-be40125d22af"
      },
      "source": [
        "covid_dict = {}\n",
        "div = soup.find_all(\"div\", {\"id\": \"ExplorerContainer\"})\n",
        "for i in div:\n",
        "  content_div = i.find(\"div\",{\"class\":\"tableTab\"})\n",
        "  covid_dict[i.find(\"h1\").text.replace(\":\",\"\").strip()] = content_div.find(\"span\").text.strip()\n",
        "print(covid_dict)"
      ],
      "execution_count": 4,
      "outputs": [
        {
          "output_type": "stream",
          "name": "stdout",
          "text": [
            "{}\n"
          ]
        }
      ]
    },
    {
      "cell_type": "code",
      "metadata": {
        "colab": {
          "base_uri": "https://localhost:8080/"
        },
        "id": "-H5sknHaqrBy",
        "outputId": "7e63ac76-a1dd-47a9-b5df-aa56f69ba704"
      },
      "source": [
        "tables = soup.find_all('table')\n",
        "table_header = tables[0].find_all('th')\n",
        "table_head = []\n",
        "for i in range(15):\n",
        "  if i != 0:\n",
        "    table_head.append(table_header[i].text.replace(\"\\n\",\"\").replace(\"\\xa0\",\"\"))\n",
        "print(table_head)"
      ],
      "execution_count": 5,
      "outputs": [
        {
          "output_type": "stream",
          "name": "stdout",
          "text": [
            "['Country,Other', 'TotalCases', 'NewCases', 'TotalDeaths', 'NewDeaths', 'TotalRecovered', 'NewRecovered', 'ActiveCases', 'Serious,Critical', 'TotCases/1M pop', 'Deaths/1M pop', 'TotalTests', 'Tests/1M pop', 'Population']\n"
          ]
        }
      ]
    },
    {
      "cell_type": "code",
      "metadata": {
        "id": "6LiNPZ4Kq2mB"
      },
      "source": [
        "Covid_data = pd.DataFrame(columns=table_head)\n",
        "for row in tables[0].tbody.find_all('tr'):\n",
        "  col = row.find_all('td')\n",
        "  if (col != []):\n",
        "    country = col[1].text.strip()\n",
        "    totalCases = col[2].text.strip()\n",
        "    newCases = col[3].text.strip()\n",
        "    totalDeaths = col[4].text.strip()\n",
        "    newDeaths = col[5].text.strip()\n",
        "    totalRecovered = col[6].text.strip()\n",
        "    newRecovered = col[7].text.strip()\n",
        "    activeCases = col[8].text.strip()\n",
        "    serious = col[9].text.strip()\n",
        "    totalCases_per_m = col[10].text.strip()\n",
        "    deaths = col[11].text.strip()\n",
        "    totalTests = col[12].text.strip()\n",
        "    tests_per_m = col[13].text.strip()\n",
        "    population = col[14].text.strip()\n",
        "    Covid_data = Covid_data.append({\"Country,Other\":country,\"TotalCases\":totalCases,\"NewCases\":newCases,\n",
        "                                    \"TotalDeaths\":totalDeaths,\"NewDeaths\":newDeaths,\"TotalRecovered\":totalRecovered,\n",
        "                                    \"NewRecovered\":newRecovered,\"ActiveCases\":activeCases,\"Serious,Critical\":serious,\n",
        "                                    \"TotCases/1M pop\":totalCases_per_m,\"Deaths/1M pop\":deaths,\"TotalTests\":totalTests,\n",
        "                                    \"Tests/1M pop\":tests_per_m,\"Population\":population},ignore_index=True)"
      ],
      "execution_count": 6,
      "outputs": []
    },
    {
      "cell_type": "code",
      "metadata": {
        "id": "R1nM9qORq6CA"
      },
      "source": [
        "Covid_data.drop(Covid_data.index[:7],inplace=True)\n",
        "Covid_data.to_csv(\"Covid_data.csv\",index=False)"
      ],
      "execution_count": 7,
      "outputs": []
    },
    {
      "cell_type": "markdown",
      "metadata": {
        "id": "1RDKmH3cNI60"
      },
      "source": [
        "**Collecting DATA_2**"
      ]
    },
    {
      "cell_type": "code",
      "metadata": {
        "id": "Jn_dGN_Zrsq_",
        "colab": {
          "base_uri": "https://localhost:8080/"
        },
        "outputId": "3d2553d5-29d5-4f7e-9205-699b1663a172"
      },
      "source": [
        "!wget --no-check-certificate \\\n",
        "  https://covid.ourworldindata.org/data/owid-covid-data.csv \\\n",
        "  -O /content/owid-covid-data.csv"
      ],
      "execution_count": 8,
      "outputs": [
        {
          "output_type": "stream",
          "name": "stdout",
          "text": [
            "--2021-09-09 10:51:48--  https://covid.ourworldindata.org/data/owid-covid-data.csv\n",
            "Resolving covid.ourworldindata.org (covid.ourworldindata.org)... 104.21.233.137, 104.21.233.138, 2606:4700:3038::6815:e98a, ...\n",
            "Connecting to covid.ourworldindata.org (covid.ourworldindata.org)|104.21.233.137|:443... connected.\n",
            "HTTP request sent, awaiting response... 200 OK\n",
            "Length: unspecified [text/csv]\n",
            "Saving to: ‘/content/owid-covid-data.csv’\n",
            "\n",
            "/content/owid-covid     [  <=>               ]  29.52M   105MB/s    in 0.3s    \n",
            "\n",
            "2021-09-09 10:51:48 (105 MB/s) - ‘/content/owid-covid-data.csv’ saved [30958093]\n",
            "\n"
          ]
        }
      ]
    },
    {
      "cell_type": "markdown",
      "metadata": {
        "id": "g2UyLBpaNNAs"
      },
      "source": [
        "# Data Processing Work"
      ]
    },
    {
      "cell_type": "markdown",
      "metadata": {
        "id": "2w08T7wmNVCy"
      },
      "source": [
        "**Install PySpark**"
      ]
    },
    {
      "cell_type": "code",
      "metadata": {
        "colab": {
          "base_uri": "https://localhost:8080/"
        },
        "id": "32I8LNJg941-",
        "outputId": "a17747e9-f3d3-444a-8f76-7902d1ea2c18"
      },
      "source": [
        "!pip install pyspark"
      ],
      "execution_count": 9,
      "outputs": [
        {
          "output_type": "stream",
          "name": "stdout",
          "text": [
            "Requirement already satisfied: pyspark in /usr/local/lib/python3.7/dist-packages (3.1.2)\n",
            "Requirement already satisfied: py4j==0.10.9 in /usr/local/lib/python3.7/dist-packages (from pyspark) (0.10.9)\n"
          ]
        }
      ]
    },
    {
      "cell_type": "markdown",
      "metadata": {
        "id": "mTL_fXpKNZr9"
      },
      "source": [
        "**Importing Libraries**"
      ]
    },
    {
      "cell_type": "code",
      "metadata": {
        "id": "ArTbFYyG97fL"
      },
      "source": [
        "import pyspark\n",
        "from pyspark.sql import SparkSession\n",
        "from pyspark.sql.types import StructType,StructField, StringType, IntegerType \n",
        "from pyspark.sql.types import ArrayType, DoubleType, BooleanType\n",
        "from pyspark.sql.functions import col,array_contains"
      ],
      "execution_count": 10,
      "outputs": []
    },
    {
      "cell_type": "markdown",
      "metadata": {
        "id": "uZRhJ043Nfx8"
      },
      "source": [
        "**Loading and Checking data by pandas**"
      ]
    },
    {
      "cell_type": "code",
      "metadata": {
        "colab": {
          "base_uri": "https://localhost:8080/",
          "height": 259
        },
        "id": "xv7kLx2oq0PL",
        "outputId": "313a8881-53a2-4590-e87b-49df0add46e0"
      },
      "source": [
        "df_vaccine = pd.read_csv(\"/content/owid-covid-data.csv\")\n",
        "df_vaccine.head(4)"
      ],
      "execution_count": 11,
      "outputs": [
        {
          "output_type": "execute_result",
          "data": {
            "text/html": [
              "<div>\n",
              "<style scoped>\n",
              "    .dataframe tbody tr th:only-of-type {\n",
              "        vertical-align: middle;\n",
              "    }\n",
              "\n",
              "    .dataframe tbody tr th {\n",
              "        vertical-align: top;\n",
              "    }\n",
              "\n",
              "    .dataframe thead th {\n",
              "        text-align: right;\n",
              "    }\n",
              "</style>\n",
              "<table border=\"1\" class=\"dataframe\">\n",
              "  <thead>\n",
              "    <tr style=\"text-align: right;\">\n",
              "      <th></th>\n",
              "      <th>iso_code</th>\n",
              "      <th>continent</th>\n",
              "      <th>location</th>\n",
              "      <th>date</th>\n",
              "      <th>total_cases</th>\n",
              "      <th>new_cases</th>\n",
              "      <th>new_cases_smoothed</th>\n",
              "      <th>total_deaths</th>\n",
              "      <th>new_deaths</th>\n",
              "      <th>new_deaths_smoothed</th>\n",
              "      <th>total_cases_per_million</th>\n",
              "      <th>new_cases_per_million</th>\n",
              "      <th>new_cases_smoothed_per_million</th>\n",
              "      <th>total_deaths_per_million</th>\n",
              "      <th>new_deaths_per_million</th>\n",
              "      <th>new_deaths_smoothed_per_million</th>\n",
              "      <th>reproduction_rate</th>\n",
              "      <th>icu_patients</th>\n",
              "      <th>icu_patients_per_million</th>\n",
              "      <th>hosp_patients</th>\n",
              "      <th>hosp_patients_per_million</th>\n",
              "      <th>weekly_icu_admissions</th>\n",
              "      <th>weekly_icu_admissions_per_million</th>\n",
              "      <th>weekly_hosp_admissions</th>\n",
              "      <th>weekly_hosp_admissions_per_million</th>\n",
              "      <th>new_tests</th>\n",
              "      <th>total_tests</th>\n",
              "      <th>total_tests_per_thousand</th>\n",
              "      <th>new_tests_per_thousand</th>\n",
              "      <th>new_tests_smoothed</th>\n",
              "      <th>new_tests_smoothed_per_thousand</th>\n",
              "      <th>positive_rate</th>\n",
              "      <th>tests_per_case</th>\n",
              "      <th>tests_units</th>\n",
              "      <th>total_vaccinations</th>\n",
              "      <th>people_vaccinated</th>\n",
              "      <th>people_fully_vaccinated</th>\n",
              "      <th>total_boosters</th>\n",
              "      <th>new_vaccinations</th>\n",
              "      <th>new_vaccinations_smoothed</th>\n",
              "      <th>total_vaccinations_per_hundred</th>\n",
              "      <th>people_vaccinated_per_hundred</th>\n",
              "      <th>people_fully_vaccinated_per_hundred</th>\n",
              "      <th>total_boosters_per_hundred</th>\n",
              "      <th>new_vaccinations_smoothed_per_million</th>\n",
              "      <th>stringency_index</th>\n",
              "      <th>population</th>\n",
              "      <th>population_density</th>\n",
              "      <th>median_age</th>\n",
              "      <th>aged_65_older</th>\n",
              "      <th>aged_70_older</th>\n",
              "      <th>gdp_per_capita</th>\n",
              "      <th>extreme_poverty</th>\n",
              "      <th>cardiovasc_death_rate</th>\n",
              "      <th>diabetes_prevalence</th>\n",
              "      <th>female_smokers</th>\n",
              "      <th>male_smokers</th>\n",
              "      <th>handwashing_facilities</th>\n",
              "      <th>hospital_beds_per_thousand</th>\n",
              "      <th>life_expectancy</th>\n",
              "      <th>human_development_index</th>\n",
              "      <th>excess_mortality</th>\n",
              "    </tr>\n",
              "  </thead>\n",
              "  <tbody>\n",
              "    <tr>\n",
              "      <th>0</th>\n",
              "      <td>AFG</td>\n",
              "      <td>Asia</td>\n",
              "      <td>Afghanistan</td>\n",
              "      <td>2020-02-24</td>\n",
              "      <td>1.0</td>\n",
              "      <td>1.0</td>\n",
              "      <td>NaN</td>\n",
              "      <td>NaN</td>\n",
              "      <td>NaN</td>\n",
              "      <td>NaN</td>\n",
              "      <td>0.025</td>\n",
              "      <td>0.025</td>\n",
              "      <td>NaN</td>\n",
              "      <td>NaN</td>\n",
              "      <td>NaN</td>\n",
              "      <td>NaN</td>\n",
              "      <td>NaN</td>\n",
              "      <td>NaN</td>\n",
              "      <td>NaN</td>\n",
              "      <td>NaN</td>\n",
              "      <td>NaN</td>\n",
              "      <td>NaN</td>\n",
              "      <td>NaN</td>\n",
              "      <td>NaN</td>\n",
              "      <td>NaN</td>\n",
              "      <td>NaN</td>\n",
              "      <td>NaN</td>\n",
              "      <td>NaN</td>\n",
              "      <td>NaN</td>\n",
              "      <td>NaN</td>\n",
              "      <td>NaN</td>\n",
              "      <td>NaN</td>\n",
              "      <td>NaN</td>\n",
              "      <td>NaN</td>\n",
              "      <td>NaN</td>\n",
              "      <td>NaN</td>\n",
              "      <td>NaN</td>\n",
              "      <td>NaN</td>\n",
              "      <td>NaN</td>\n",
              "      <td>NaN</td>\n",
              "      <td>NaN</td>\n",
              "      <td>NaN</td>\n",
              "      <td>NaN</td>\n",
              "      <td>NaN</td>\n",
              "      <td>NaN</td>\n",
              "      <td>8.33</td>\n",
              "      <td>39835428.0</td>\n",
              "      <td>54.422</td>\n",
              "      <td>18.6</td>\n",
              "      <td>2.581</td>\n",
              "      <td>1.337</td>\n",
              "      <td>1803.987</td>\n",
              "      <td>NaN</td>\n",
              "      <td>597.029</td>\n",
              "      <td>9.59</td>\n",
              "      <td>NaN</td>\n",
              "      <td>NaN</td>\n",
              "      <td>37.746</td>\n",
              "      <td>0.5</td>\n",
              "      <td>64.83</td>\n",
              "      <td>0.511</td>\n",
              "      <td>NaN</td>\n",
              "    </tr>\n",
              "    <tr>\n",
              "      <th>1</th>\n",
              "      <td>AFG</td>\n",
              "      <td>Asia</td>\n",
              "      <td>Afghanistan</td>\n",
              "      <td>2020-02-25</td>\n",
              "      <td>1.0</td>\n",
              "      <td>0.0</td>\n",
              "      <td>NaN</td>\n",
              "      <td>NaN</td>\n",
              "      <td>NaN</td>\n",
              "      <td>NaN</td>\n",
              "      <td>0.025</td>\n",
              "      <td>0.000</td>\n",
              "      <td>NaN</td>\n",
              "      <td>NaN</td>\n",
              "      <td>NaN</td>\n",
              "      <td>NaN</td>\n",
              "      <td>NaN</td>\n",
              "      <td>NaN</td>\n",
              "      <td>NaN</td>\n",
              "      <td>NaN</td>\n",
              "      <td>NaN</td>\n",
              "      <td>NaN</td>\n",
              "      <td>NaN</td>\n",
              "      <td>NaN</td>\n",
              "      <td>NaN</td>\n",
              "      <td>NaN</td>\n",
              "      <td>NaN</td>\n",
              "      <td>NaN</td>\n",
              "      <td>NaN</td>\n",
              "      <td>NaN</td>\n",
              "      <td>NaN</td>\n",
              "      <td>NaN</td>\n",
              "      <td>NaN</td>\n",
              "      <td>NaN</td>\n",
              "      <td>NaN</td>\n",
              "      <td>NaN</td>\n",
              "      <td>NaN</td>\n",
              "      <td>NaN</td>\n",
              "      <td>NaN</td>\n",
              "      <td>NaN</td>\n",
              "      <td>NaN</td>\n",
              "      <td>NaN</td>\n",
              "      <td>NaN</td>\n",
              "      <td>NaN</td>\n",
              "      <td>NaN</td>\n",
              "      <td>8.33</td>\n",
              "      <td>39835428.0</td>\n",
              "      <td>54.422</td>\n",
              "      <td>18.6</td>\n",
              "      <td>2.581</td>\n",
              "      <td>1.337</td>\n",
              "      <td>1803.987</td>\n",
              "      <td>NaN</td>\n",
              "      <td>597.029</td>\n",
              "      <td>9.59</td>\n",
              "      <td>NaN</td>\n",
              "      <td>NaN</td>\n",
              "      <td>37.746</td>\n",
              "      <td>0.5</td>\n",
              "      <td>64.83</td>\n",
              "      <td>0.511</td>\n",
              "      <td>NaN</td>\n",
              "    </tr>\n",
              "    <tr>\n",
              "      <th>2</th>\n",
              "      <td>AFG</td>\n",
              "      <td>Asia</td>\n",
              "      <td>Afghanistan</td>\n",
              "      <td>2020-02-26</td>\n",
              "      <td>1.0</td>\n",
              "      <td>0.0</td>\n",
              "      <td>NaN</td>\n",
              "      <td>NaN</td>\n",
              "      <td>NaN</td>\n",
              "      <td>NaN</td>\n",
              "      <td>0.025</td>\n",
              "      <td>0.000</td>\n",
              "      <td>NaN</td>\n",
              "      <td>NaN</td>\n",
              "      <td>NaN</td>\n",
              "      <td>NaN</td>\n",
              "      <td>NaN</td>\n",
              "      <td>NaN</td>\n",
              "      <td>NaN</td>\n",
              "      <td>NaN</td>\n",
              "      <td>NaN</td>\n",
              "      <td>NaN</td>\n",
              "      <td>NaN</td>\n",
              "      <td>NaN</td>\n",
              "      <td>NaN</td>\n",
              "      <td>NaN</td>\n",
              "      <td>NaN</td>\n",
              "      <td>NaN</td>\n",
              "      <td>NaN</td>\n",
              "      <td>NaN</td>\n",
              "      <td>NaN</td>\n",
              "      <td>NaN</td>\n",
              "      <td>NaN</td>\n",
              "      <td>NaN</td>\n",
              "      <td>NaN</td>\n",
              "      <td>NaN</td>\n",
              "      <td>NaN</td>\n",
              "      <td>NaN</td>\n",
              "      <td>NaN</td>\n",
              "      <td>NaN</td>\n",
              "      <td>NaN</td>\n",
              "      <td>NaN</td>\n",
              "      <td>NaN</td>\n",
              "      <td>NaN</td>\n",
              "      <td>NaN</td>\n",
              "      <td>8.33</td>\n",
              "      <td>39835428.0</td>\n",
              "      <td>54.422</td>\n",
              "      <td>18.6</td>\n",
              "      <td>2.581</td>\n",
              "      <td>1.337</td>\n",
              "      <td>1803.987</td>\n",
              "      <td>NaN</td>\n",
              "      <td>597.029</td>\n",
              "      <td>9.59</td>\n",
              "      <td>NaN</td>\n",
              "      <td>NaN</td>\n",
              "      <td>37.746</td>\n",
              "      <td>0.5</td>\n",
              "      <td>64.83</td>\n",
              "      <td>0.511</td>\n",
              "      <td>NaN</td>\n",
              "    </tr>\n",
              "    <tr>\n",
              "      <th>3</th>\n",
              "      <td>AFG</td>\n",
              "      <td>Asia</td>\n",
              "      <td>Afghanistan</td>\n",
              "      <td>2020-02-27</td>\n",
              "      <td>1.0</td>\n",
              "      <td>0.0</td>\n",
              "      <td>NaN</td>\n",
              "      <td>NaN</td>\n",
              "      <td>NaN</td>\n",
              "      <td>NaN</td>\n",
              "      <td>0.025</td>\n",
              "      <td>0.000</td>\n",
              "      <td>NaN</td>\n",
              "      <td>NaN</td>\n",
              "      <td>NaN</td>\n",
              "      <td>NaN</td>\n",
              "      <td>NaN</td>\n",
              "      <td>NaN</td>\n",
              "      <td>NaN</td>\n",
              "      <td>NaN</td>\n",
              "      <td>NaN</td>\n",
              "      <td>NaN</td>\n",
              "      <td>NaN</td>\n",
              "      <td>NaN</td>\n",
              "      <td>NaN</td>\n",
              "      <td>NaN</td>\n",
              "      <td>NaN</td>\n",
              "      <td>NaN</td>\n",
              "      <td>NaN</td>\n",
              "      <td>NaN</td>\n",
              "      <td>NaN</td>\n",
              "      <td>NaN</td>\n",
              "      <td>NaN</td>\n",
              "      <td>NaN</td>\n",
              "      <td>NaN</td>\n",
              "      <td>NaN</td>\n",
              "      <td>NaN</td>\n",
              "      <td>NaN</td>\n",
              "      <td>NaN</td>\n",
              "      <td>NaN</td>\n",
              "      <td>NaN</td>\n",
              "      <td>NaN</td>\n",
              "      <td>NaN</td>\n",
              "      <td>NaN</td>\n",
              "      <td>NaN</td>\n",
              "      <td>8.33</td>\n",
              "      <td>39835428.0</td>\n",
              "      <td>54.422</td>\n",
              "      <td>18.6</td>\n",
              "      <td>2.581</td>\n",
              "      <td>1.337</td>\n",
              "      <td>1803.987</td>\n",
              "      <td>NaN</td>\n",
              "      <td>597.029</td>\n",
              "      <td>9.59</td>\n",
              "      <td>NaN</td>\n",
              "      <td>NaN</td>\n",
              "      <td>37.746</td>\n",
              "      <td>0.5</td>\n",
              "      <td>64.83</td>\n",
              "      <td>0.511</td>\n",
              "      <td>NaN</td>\n",
              "    </tr>\n",
              "  </tbody>\n",
              "</table>\n",
              "</div>"
            ],
            "text/plain": [
              "  iso_code continent  ... human_development_index excess_mortality\n",
              "0      AFG      Asia  ...                   0.511              NaN\n",
              "1      AFG      Asia  ...                   0.511              NaN\n",
              "2      AFG      Asia  ...                   0.511              NaN\n",
              "3      AFG      Asia  ...                   0.511              NaN\n",
              "\n",
              "[4 rows x 62 columns]"
            ]
          },
          "metadata": {},
          "execution_count": 11
        }
      ]
    },
    {
      "cell_type": "code",
      "metadata": {
        "colab": {
          "base_uri": "https://localhost:8080/",
          "height": 259
        },
        "id": "GXt-tH5E_FaL",
        "outputId": "1a1ecb74-93f2-4f59-9711-daab96ff9ba3"
      },
      "source": [
        "df_vaccine.tail(4)"
      ],
      "execution_count": 12,
      "outputs": [
        {
          "output_type": "execute_result",
          "data": {
            "text/html": [
              "<div>\n",
              "<style scoped>\n",
              "    .dataframe tbody tr th:only-of-type {\n",
              "        vertical-align: middle;\n",
              "    }\n",
              "\n",
              "    .dataframe tbody tr th {\n",
              "        vertical-align: top;\n",
              "    }\n",
              "\n",
              "    .dataframe thead th {\n",
              "        text-align: right;\n",
              "    }\n",
              "</style>\n",
              "<table border=\"1\" class=\"dataframe\">\n",
              "  <thead>\n",
              "    <tr style=\"text-align: right;\">\n",
              "      <th></th>\n",
              "      <th>iso_code</th>\n",
              "      <th>continent</th>\n",
              "      <th>location</th>\n",
              "      <th>date</th>\n",
              "      <th>total_cases</th>\n",
              "      <th>new_cases</th>\n",
              "      <th>new_cases_smoothed</th>\n",
              "      <th>total_deaths</th>\n",
              "      <th>new_deaths</th>\n",
              "      <th>new_deaths_smoothed</th>\n",
              "      <th>total_cases_per_million</th>\n",
              "      <th>new_cases_per_million</th>\n",
              "      <th>new_cases_smoothed_per_million</th>\n",
              "      <th>total_deaths_per_million</th>\n",
              "      <th>new_deaths_per_million</th>\n",
              "      <th>new_deaths_smoothed_per_million</th>\n",
              "      <th>reproduction_rate</th>\n",
              "      <th>icu_patients</th>\n",
              "      <th>icu_patients_per_million</th>\n",
              "      <th>hosp_patients</th>\n",
              "      <th>hosp_patients_per_million</th>\n",
              "      <th>weekly_icu_admissions</th>\n",
              "      <th>weekly_icu_admissions_per_million</th>\n",
              "      <th>weekly_hosp_admissions</th>\n",
              "      <th>weekly_hosp_admissions_per_million</th>\n",
              "      <th>new_tests</th>\n",
              "      <th>total_tests</th>\n",
              "      <th>total_tests_per_thousand</th>\n",
              "      <th>new_tests_per_thousand</th>\n",
              "      <th>new_tests_smoothed</th>\n",
              "      <th>new_tests_smoothed_per_thousand</th>\n",
              "      <th>positive_rate</th>\n",
              "      <th>tests_per_case</th>\n",
              "      <th>tests_units</th>\n",
              "      <th>total_vaccinations</th>\n",
              "      <th>people_vaccinated</th>\n",
              "      <th>people_fully_vaccinated</th>\n",
              "      <th>total_boosters</th>\n",
              "      <th>new_vaccinations</th>\n",
              "      <th>new_vaccinations_smoothed</th>\n",
              "      <th>total_vaccinations_per_hundred</th>\n",
              "      <th>people_vaccinated_per_hundred</th>\n",
              "      <th>people_fully_vaccinated_per_hundred</th>\n",
              "      <th>total_boosters_per_hundred</th>\n",
              "      <th>new_vaccinations_smoothed_per_million</th>\n",
              "      <th>stringency_index</th>\n",
              "      <th>population</th>\n",
              "      <th>population_density</th>\n",
              "      <th>median_age</th>\n",
              "      <th>aged_65_older</th>\n",
              "      <th>aged_70_older</th>\n",
              "      <th>gdp_per_capita</th>\n",
              "      <th>extreme_poverty</th>\n",
              "      <th>cardiovasc_death_rate</th>\n",
              "      <th>diabetes_prevalence</th>\n",
              "      <th>female_smokers</th>\n",
              "      <th>male_smokers</th>\n",
              "      <th>handwashing_facilities</th>\n",
              "      <th>hospital_beds_per_thousand</th>\n",
              "      <th>life_expectancy</th>\n",
              "      <th>human_development_index</th>\n",
              "      <th>excess_mortality</th>\n",
              "    </tr>\n",
              "  </thead>\n",
              "  <tbody>\n",
              "    <tr>\n",
              "      <th>115441</th>\n",
              "      <td>ZWE</td>\n",
              "      <td>Africa</td>\n",
              "      <td>Zimbabwe</td>\n",
              "      <td>2021-09-05</td>\n",
              "      <td>125550.0</td>\n",
              "      <td>125.0</td>\n",
              "      <td>159.000</td>\n",
              "      <td>4482.0</td>\n",
              "      <td>16.0</td>\n",
              "      <td>11.571</td>\n",
              "      <td>8318.883</td>\n",
              "      <td>8.282</td>\n",
              "      <td>10.535</td>\n",
              "      <td>296.975</td>\n",
              "      <td>1.060</td>\n",
              "      <td>0.767</td>\n",
              "      <td>0.64</td>\n",
              "      <td>NaN</td>\n",
              "      <td>NaN</td>\n",
              "      <td>NaN</td>\n",
              "      <td>NaN</td>\n",
              "      <td>NaN</td>\n",
              "      <td>NaN</td>\n",
              "      <td>NaN</td>\n",
              "      <td>NaN</td>\n",
              "      <td>NaN</td>\n",
              "      <td>NaN</td>\n",
              "      <td>NaN</td>\n",
              "      <td>NaN</td>\n",
              "      <td>NaN</td>\n",
              "      <td>NaN</td>\n",
              "      <td>NaN</td>\n",
              "      <td>NaN</td>\n",
              "      <td>NaN</td>\n",
              "      <td>4431599.0</td>\n",
              "      <td>2713248.0</td>\n",
              "      <td>1718351.0</td>\n",
              "      <td>NaN</td>\n",
              "      <td>31353.0</td>\n",
              "      <td>41964.0</td>\n",
              "      <td>29.36</td>\n",
              "      <td>17.98</td>\n",
              "      <td>11.39</td>\n",
              "      <td>NaN</td>\n",
              "      <td>2781.0</td>\n",
              "      <td>78.7</td>\n",
              "      <td>15092171.0</td>\n",
              "      <td>42.729</td>\n",
              "      <td>19.6</td>\n",
              "      <td>2.822</td>\n",
              "      <td>1.882</td>\n",
              "      <td>1899.775</td>\n",
              "      <td>21.4</td>\n",
              "      <td>307.846</td>\n",
              "      <td>1.82</td>\n",
              "      <td>1.6</td>\n",
              "      <td>30.7</td>\n",
              "      <td>36.791</td>\n",
              "      <td>1.7</td>\n",
              "      <td>61.49</td>\n",
              "      <td>0.571</td>\n",
              "      <td>NaN</td>\n",
              "    </tr>\n",
              "    <tr>\n",
              "      <th>115442</th>\n",
              "      <td>ZWE</td>\n",
              "      <td>Africa</td>\n",
              "      <td>Zimbabwe</td>\n",
              "      <td>2021-09-06</td>\n",
              "      <td>125671.0</td>\n",
              "      <td>121.0</td>\n",
              "      <td>155.714</td>\n",
              "      <td>4493.0</td>\n",
              "      <td>11.0</td>\n",
              "      <td>11.000</td>\n",
              "      <td>8326.900</td>\n",
              "      <td>8.017</td>\n",
              "      <td>10.318</td>\n",
              "      <td>297.704</td>\n",
              "      <td>0.729</td>\n",
              "      <td>0.729</td>\n",
              "      <td>0.65</td>\n",
              "      <td>NaN</td>\n",
              "      <td>NaN</td>\n",
              "      <td>NaN</td>\n",
              "      <td>NaN</td>\n",
              "      <td>NaN</td>\n",
              "      <td>NaN</td>\n",
              "      <td>NaN</td>\n",
              "      <td>NaN</td>\n",
              "      <td>NaN</td>\n",
              "      <td>NaN</td>\n",
              "      <td>NaN</td>\n",
              "      <td>NaN</td>\n",
              "      <td>NaN</td>\n",
              "      <td>NaN</td>\n",
              "      <td>NaN</td>\n",
              "      <td>NaN</td>\n",
              "      <td>NaN</td>\n",
              "      <td>NaN</td>\n",
              "      <td>NaN</td>\n",
              "      <td>NaN</td>\n",
              "      <td>NaN</td>\n",
              "      <td>NaN</td>\n",
              "      <td>41445.0</td>\n",
              "      <td>NaN</td>\n",
              "      <td>NaN</td>\n",
              "      <td>NaN</td>\n",
              "      <td>NaN</td>\n",
              "      <td>2746.0</td>\n",
              "      <td>78.7</td>\n",
              "      <td>15092171.0</td>\n",
              "      <td>42.729</td>\n",
              "      <td>19.6</td>\n",
              "      <td>2.822</td>\n",
              "      <td>1.882</td>\n",
              "      <td>1899.775</td>\n",
              "      <td>21.4</td>\n",
              "      <td>307.846</td>\n",
              "      <td>1.82</td>\n",
              "      <td>1.6</td>\n",
              "      <td>30.7</td>\n",
              "      <td>36.791</td>\n",
              "      <td>1.7</td>\n",
              "      <td>61.49</td>\n",
              "      <td>0.571</td>\n",
              "      <td>NaN</td>\n",
              "    </tr>\n",
              "    <tr>\n",
              "      <th>115443</th>\n",
              "      <td>ZWE</td>\n",
              "      <td>Africa</td>\n",
              "      <td>Zimbabwe</td>\n",
              "      <td>2021-09-07</td>\n",
              "      <td>125796.0</td>\n",
              "      <td>125.0</td>\n",
              "      <td>146.143</td>\n",
              "      <td>4503.0</td>\n",
              "      <td>10.0</td>\n",
              "      <td>12.000</td>\n",
              "      <td>8335.183</td>\n",
              "      <td>8.282</td>\n",
              "      <td>9.683</td>\n",
              "      <td>298.367</td>\n",
              "      <td>0.663</td>\n",
              "      <td>0.795</td>\n",
              "      <td>NaN</td>\n",
              "      <td>NaN</td>\n",
              "      <td>NaN</td>\n",
              "      <td>NaN</td>\n",
              "      <td>NaN</td>\n",
              "      <td>NaN</td>\n",
              "      <td>NaN</td>\n",
              "      <td>NaN</td>\n",
              "      <td>NaN</td>\n",
              "      <td>NaN</td>\n",
              "      <td>NaN</td>\n",
              "      <td>NaN</td>\n",
              "      <td>NaN</td>\n",
              "      <td>NaN</td>\n",
              "      <td>NaN</td>\n",
              "      <td>NaN</td>\n",
              "      <td>NaN</td>\n",
              "      <td>NaN</td>\n",
              "      <td>4493943.0</td>\n",
              "      <td>2750381.0</td>\n",
              "      <td>1743562.0</td>\n",
              "      <td>NaN</td>\n",
              "      <td>NaN</td>\n",
              "      <td>39160.0</td>\n",
              "      <td>29.78</td>\n",
              "      <td>18.22</td>\n",
              "      <td>11.55</td>\n",
              "      <td>NaN</td>\n",
              "      <td>2595.0</td>\n",
              "      <td>NaN</td>\n",
              "      <td>15092171.0</td>\n",
              "      <td>42.729</td>\n",
              "      <td>19.6</td>\n",
              "      <td>2.822</td>\n",
              "      <td>1.882</td>\n",
              "      <td>1899.775</td>\n",
              "      <td>21.4</td>\n",
              "      <td>307.846</td>\n",
              "      <td>1.82</td>\n",
              "      <td>1.6</td>\n",
              "      <td>30.7</td>\n",
              "      <td>36.791</td>\n",
              "      <td>1.7</td>\n",
              "      <td>61.49</td>\n",
              "      <td>0.571</td>\n",
              "      <td>NaN</td>\n",
              "    </tr>\n",
              "    <tr>\n",
              "      <th>115444</th>\n",
              "      <td>ZWE</td>\n",
              "      <td>Africa</td>\n",
              "      <td>Zimbabwe</td>\n",
              "      <td>2021-09-08</td>\n",
              "      <td>125931.0</td>\n",
              "      <td>135.0</td>\n",
              "      <td>138.714</td>\n",
              "      <td>4517.0</td>\n",
              "      <td>14.0</td>\n",
              "      <td>11.286</td>\n",
              "      <td>8344.128</td>\n",
              "      <td>8.945</td>\n",
              "      <td>9.191</td>\n",
              "      <td>299.294</td>\n",
              "      <td>0.928</td>\n",
              "      <td>0.748</td>\n",
              "      <td>NaN</td>\n",
              "      <td>NaN</td>\n",
              "      <td>NaN</td>\n",
              "      <td>NaN</td>\n",
              "      <td>NaN</td>\n",
              "      <td>NaN</td>\n",
              "      <td>NaN</td>\n",
              "      <td>NaN</td>\n",
              "      <td>NaN</td>\n",
              "      <td>NaN</td>\n",
              "      <td>NaN</td>\n",
              "      <td>NaN</td>\n",
              "      <td>NaN</td>\n",
              "      <td>NaN</td>\n",
              "      <td>NaN</td>\n",
              "      <td>NaN</td>\n",
              "      <td>NaN</td>\n",
              "      <td>NaN</td>\n",
              "      <td>NaN</td>\n",
              "      <td>NaN</td>\n",
              "      <td>NaN</td>\n",
              "      <td>NaN</td>\n",
              "      <td>NaN</td>\n",
              "      <td>NaN</td>\n",
              "      <td>NaN</td>\n",
              "      <td>NaN</td>\n",
              "      <td>NaN</td>\n",
              "      <td>NaN</td>\n",
              "      <td>NaN</td>\n",
              "      <td>NaN</td>\n",
              "      <td>15092171.0</td>\n",
              "      <td>42.729</td>\n",
              "      <td>19.6</td>\n",
              "      <td>2.822</td>\n",
              "      <td>1.882</td>\n",
              "      <td>1899.775</td>\n",
              "      <td>21.4</td>\n",
              "      <td>307.846</td>\n",
              "      <td>1.82</td>\n",
              "      <td>1.6</td>\n",
              "      <td>30.7</td>\n",
              "      <td>36.791</td>\n",
              "      <td>1.7</td>\n",
              "      <td>61.49</td>\n",
              "      <td>0.571</td>\n",
              "      <td>NaN</td>\n",
              "    </tr>\n",
              "  </tbody>\n",
              "</table>\n",
              "</div>"
            ],
            "text/plain": [
              "       iso_code continent  ... human_development_index excess_mortality\n",
              "115441      ZWE    Africa  ...                   0.571              NaN\n",
              "115442      ZWE    Africa  ...                   0.571              NaN\n",
              "115443      ZWE    Africa  ...                   0.571              NaN\n",
              "115444      ZWE    Africa  ...                   0.571              NaN\n",
              "\n",
              "[4 rows x 62 columns]"
            ]
          },
          "metadata": {},
          "execution_count": 12
        }
      ]
    },
    {
      "cell_type": "markdown",
      "metadata": {
        "id": "JjvbzGDnNpNO"
      },
      "source": [
        "**Get the coloumn list of DATA_2**"
      ]
    },
    {
      "cell_type": "code",
      "metadata": {
        "colab": {
          "base_uri": "https://localhost:8080/"
        },
        "id": "XoDBDztgQOZY",
        "outputId": "40575086-c4da-4e39-a1c9-2597e946e52d"
      },
      "source": [
        "df_vaccine.columns"
      ],
      "execution_count": 13,
      "outputs": [
        {
          "output_type": "execute_result",
          "data": {
            "text/plain": [
              "Index(['iso_code', 'continent', 'location', 'date', 'total_cases', 'new_cases',\n",
              "       'new_cases_smoothed', 'total_deaths', 'new_deaths',\n",
              "       'new_deaths_smoothed', 'total_cases_per_million',\n",
              "       'new_cases_per_million', 'new_cases_smoothed_per_million',\n",
              "       'total_deaths_per_million', 'new_deaths_per_million',\n",
              "       'new_deaths_smoothed_per_million', 'reproduction_rate', 'icu_patients',\n",
              "       'icu_patients_per_million', 'hosp_patients',\n",
              "       'hosp_patients_per_million', 'weekly_icu_admissions',\n",
              "       'weekly_icu_admissions_per_million', 'weekly_hosp_admissions',\n",
              "       'weekly_hosp_admissions_per_million', 'new_tests', 'total_tests',\n",
              "       'total_tests_per_thousand', 'new_tests_per_thousand',\n",
              "       'new_tests_smoothed', 'new_tests_smoothed_per_thousand',\n",
              "       'positive_rate', 'tests_per_case', 'tests_units', 'total_vaccinations',\n",
              "       'people_vaccinated', 'people_fully_vaccinated', 'total_boosters',\n",
              "       'new_vaccinations', 'new_vaccinations_smoothed',\n",
              "       'total_vaccinations_per_hundred', 'people_vaccinated_per_hundred',\n",
              "       'people_fully_vaccinated_per_hundred', 'total_boosters_per_hundred',\n",
              "       'new_vaccinations_smoothed_per_million', 'stringency_index',\n",
              "       'population', 'population_density', 'median_age', 'aged_65_older',\n",
              "       'aged_70_older', 'gdp_per_capita', 'extreme_poverty',\n",
              "       'cardiovasc_death_rate', 'diabetes_prevalence', 'female_smokers',\n",
              "       'male_smokers', 'handwashing_facilities', 'hospital_beds_per_thousand',\n",
              "       'life_expectancy', 'human_development_index', 'excess_mortality'],\n",
              "      dtype='object')"
            ]
          },
          "metadata": {},
          "execution_count": 13
        }
      ]
    },
    {
      "cell_type": "markdown",
      "metadata": {
        "id": "6dQxjuckNvZD"
      },
      "source": [
        "**Processing DATA with PySpark**"
      ]
    },
    {
      "cell_type": "code",
      "metadata": {
        "colab": {
          "base_uri": "https://localhost:8080/"
        },
        "id": "-F2PNlSD_QnU",
        "outputId": "7bdbb24f-ecbc-451c-8466-ed940378c190"
      },
      "source": [
        "spark = SparkSession.builder.appName('CSV reader').getOrCreate()\n",
        "\n",
        "#extract\n",
        "df = '/content/owid-covid-data.csv'\n",
        "sdfData = spark.read.csv(df, header=True, sep=\",\").cache()\n",
        "Name = sdfData.groupBy('Continent').count()\n",
        "print(Name.show())"
      ],
      "execution_count": 14,
      "outputs": [
        {
          "output_type": "stream",
          "name": "stdout",
          "text": [
            "+-------------+-----+\n",
            "|    Continent|count|\n",
            "+-------------+-----+\n",
            "|       Europe|27112|\n",
            "|       Africa|29353|\n",
            "|         null| 5290|\n",
            "|North America|14759|\n",
            "|South America| 6812|\n",
            "|      Oceania| 5159|\n",
            "|         Asia|26960|\n",
            "+-------------+-----+\n",
            "\n",
            "None\n"
          ]
        }
      ]
    },
    {
      "cell_type": "code",
      "metadata": {
        "colab": {
          "base_uri": "https://localhost:8080/"
        },
        "id": "CYB-BggsAQsr",
        "outputId": "cd2e4874-2096-4e62-fc6a-f715f9b587f3"
      },
      "source": [
        "sdfData.printSchema()"
      ],
      "execution_count": 15,
      "outputs": [
        {
          "output_type": "stream",
          "name": "stdout",
          "text": [
            "root\n",
            " |-- iso_code: string (nullable = true)\n",
            " |-- continent: string (nullable = true)\n",
            " |-- location: string (nullable = true)\n",
            " |-- date: string (nullable = true)\n",
            " |-- total_cases: string (nullable = true)\n",
            " |-- new_cases: string (nullable = true)\n",
            " |-- new_cases_smoothed: string (nullable = true)\n",
            " |-- total_deaths: string (nullable = true)\n",
            " |-- new_deaths: string (nullable = true)\n",
            " |-- new_deaths_smoothed: string (nullable = true)\n",
            " |-- total_cases_per_million: string (nullable = true)\n",
            " |-- new_cases_per_million: string (nullable = true)\n",
            " |-- new_cases_smoothed_per_million: string (nullable = true)\n",
            " |-- total_deaths_per_million: string (nullable = true)\n",
            " |-- new_deaths_per_million: string (nullable = true)\n",
            " |-- new_deaths_smoothed_per_million: string (nullable = true)\n",
            " |-- reproduction_rate: string (nullable = true)\n",
            " |-- icu_patients: string (nullable = true)\n",
            " |-- icu_patients_per_million: string (nullable = true)\n",
            " |-- hosp_patients: string (nullable = true)\n",
            " |-- hosp_patients_per_million: string (nullable = true)\n",
            " |-- weekly_icu_admissions: string (nullable = true)\n",
            " |-- weekly_icu_admissions_per_million: string (nullable = true)\n",
            " |-- weekly_hosp_admissions: string (nullable = true)\n",
            " |-- weekly_hosp_admissions_per_million: string (nullable = true)\n",
            " |-- new_tests: string (nullable = true)\n",
            " |-- total_tests: string (nullable = true)\n",
            " |-- total_tests_per_thousand: string (nullable = true)\n",
            " |-- new_tests_per_thousand: string (nullable = true)\n",
            " |-- new_tests_smoothed: string (nullable = true)\n",
            " |-- new_tests_smoothed_per_thousand: string (nullable = true)\n",
            " |-- positive_rate: string (nullable = true)\n",
            " |-- tests_per_case: string (nullable = true)\n",
            " |-- tests_units: string (nullable = true)\n",
            " |-- total_vaccinations: string (nullable = true)\n",
            " |-- people_vaccinated: string (nullable = true)\n",
            " |-- people_fully_vaccinated: string (nullable = true)\n",
            " |-- total_boosters: string (nullable = true)\n",
            " |-- new_vaccinations: string (nullable = true)\n",
            " |-- new_vaccinations_smoothed: string (nullable = true)\n",
            " |-- total_vaccinations_per_hundred: string (nullable = true)\n",
            " |-- people_vaccinated_per_hundred: string (nullable = true)\n",
            " |-- people_fully_vaccinated_per_hundred: string (nullable = true)\n",
            " |-- total_boosters_per_hundred: string (nullable = true)\n",
            " |-- new_vaccinations_smoothed_per_million: string (nullable = true)\n",
            " |-- stringency_index: string (nullable = true)\n",
            " |-- population: string (nullable = true)\n",
            " |-- population_density: string (nullable = true)\n",
            " |-- median_age: string (nullable = true)\n",
            " |-- aged_65_older: string (nullable = true)\n",
            " |-- aged_70_older: string (nullable = true)\n",
            " |-- gdp_per_capita: string (nullable = true)\n",
            " |-- extreme_poverty: string (nullable = true)\n",
            " |-- cardiovasc_death_rate: string (nullable = true)\n",
            " |-- diabetes_prevalence: string (nullable = true)\n",
            " |-- female_smokers: string (nullable = true)\n",
            " |-- male_smokers: string (nullable = true)\n",
            " |-- handwashing_facilities: string (nullable = true)\n",
            " |-- hospital_beds_per_thousand: string (nullable = true)\n",
            " |-- life_expectancy: string (nullable = true)\n",
            " |-- human_development_index: string (nullable = true)\n",
            " |-- excess_mortality: string (nullable = true)\n",
            "\n"
          ]
        }
      ]
    },
    {
      "cell_type": "code",
      "metadata": {
        "colab": {
          "base_uri": "https://localhost:8080/"
        },
        "id": "fxFo1a1kAEUD",
        "outputId": "abb596ab-30f9-43e1-f91e-fe8dab5df013"
      },
      "source": [
        "#transform\n",
        "sdfData.registerTempTable(\"cases\")\n",
        "output =  spark.sql('SELECT * from cases')\n",
        "\n",
        "\n",
        "\n",
        "schema = StructType() \\\n",
        "      .add(\"Name\",StringType(),True) \\\n",
        "      .add(\"continent\",StringType(),True) \\\n",
        "\n",
        "df_with_schema = spark.read.format(\"csv\") \\\n",
        "      .option(\"header\", True) \\\n",
        "      .schema(schema) \\\n",
        "      .load(\"/content/owid-covid-data.csv\")\n",
        "df_with_schema.printSchema()"
      ],
      "execution_count": 16,
      "outputs": [
        {
          "output_type": "stream",
          "name": "stdout",
          "text": [
            "root\n",
            " |-- Name: string (nullable = true)\n",
            " |-- continent: string (nullable = true)\n",
            "\n"
          ]
        }
      ]
    },
    {
      "cell_type": "code",
      "metadata": {
        "colab": {
          "base_uri": "https://localhost:8080/"
        },
        "id": "2MrjDNTD_Qwz",
        "outputId": "b1441aa1-7bb6-482c-d1df-398f44e3472a"
      },
      "source": [
        "output = spark.sql('SELECT * from cases WHERE new_cases > 150000' )\n",
        "output.show(10)"
      ],
      "execution_count": 17,
      "outputs": [
        {
          "output_type": "stream",
          "name": "stdout",
          "text": [
            "+--------+---------+--------+----------+-----------+---------+------------------+------------+----------+-------------------+-----------------------+---------------------+------------------------------+------------------------+----------------------+-------------------------------+-----------------+------------+------------------------+-------------+-------------------------+---------------------+---------------------------------+----------------------+----------------------------------+---------+-----------+------------------------+----------------------+------------------+-------------------------------+-------------+--------------+-----------+------------------+-----------------+-----------------------+--------------+----------------+-------------------------+------------------------------+-----------------------------+-----------------------------------+--------------------------+-------------------------------------+----------------+------------+------------------+----------+-------------+-------------+--------------+---------------+---------------------+-------------------+--------------+------------+----------------------+--------------------------+---------------+-----------------------+----------------+\n",
            "|iso_code|continent|location|      date|total_cases|new_cases|new_cases_smoothed|total_deaths|new_deaths|new_deaths_smoothed|total_cases_per_million|new_cases_per_million|new_cases_smoothed_per_million|total_deaths_per_million|new_deaths_per_million|new_deaths_smoothed_per_million|reproduction_rate|icu_patients|icu_patients_per_million|hosp_patients|hosp_patients_per_million|weekly_icu_admissions|weekly_icu_admissions_per_million|weekly_hosp_admissions|weekly_hosp_admissions_per_million|new_tests|total_tests|total_tests_per_thousand|new_tests_per_thousand|new_tests_smoothed|new_tests_smoothed_per_thousand|positive_rate|tests_per_case|tests_units|total_vaccinations|people_vaccinated|people_fully_vaccinated|total_boosters|new_vaccinations|new_vaccinations_smoothed|total_vaccinations_per_hundred|people_vaccinated_per_hundred|people_fully_vaccinated_per_hundred|total_boosters_per_hundred|new_vaccinations_smoothed_per_million|stringency_index|  population|population_density|median_age|aged_65_older|aged_70_older|gdp_per_capita|extreme_poverty|cardiovasc_death_rate|diabetes_prevalence|female_smokers|male_smokers|handwashing_facilities|hospital_beds_per_thousand|life_expectancy|human_development_index|excess_mortality|\n",
            "+--------+---------+--------+----------+-----------+---------+------------------+------------+----------+-------------------+-----------------------+---------------------+------------------------------+------------------------+----------------------+-------------------------------+-----------------+------------+------------------------+-------------+-------------------------+---------------------+---------------------------------+----------------------+----------------------------------+---------+-----------+------------------------+----------------------+------------------+-------------------------------+-------------+--------------+-----------+------------------+-----------------+-----------------------+--------------+----------------+-------------------------+------------------------------+-----------------------------+-----------------------------------+--------------------------+-------------------------------------+----------------+------------+------------------+----------+-------------+-------------+--------------+---------------+---------------------+-------------------+--------------+------------+----------------------+--------------------------+---------------+-----------------------+----------------+\n",
            "|OWID_ASI|     null|    Asia|2021-03-25| 27538156.0| 154999.0|        131895.429|    423468.0|    1115.0|           1337.857|               5884.648|               33.122|                        28.185|                  90.491|                 0.238|                          0.286|             null|        null|                    null|         null|                     null|                 null|                             null|                  null|                              null|     null|       null|                    null|                  null|              null|                           null|         null|          null|       null|       209396306.0|       85953029.0|             25603242.0|          null|       9181741.0|                7634793.0|                          4.47|                         1.84|                               0.55|                      null|                               1631.0|            null|4679660580.0|              null|      null|         null|         null|          null|           null|                 null|               null|          null|        null|                  null|                      null|           null|                   null|            null|\n",
            "|OWID_ASI|     null|    Asia|2021-03-26| 27694541.0| 156385.0|        136856.286|    424574.0|    1106.0|           1361.714|               5918.066|               33.418|                        29.245|                  90.728|                 0.236|                          0.291|             null|        null|                    null|         null|                     null|                 null|                             null|                  null|                              null|     null|       null|                    null|                  null|              null|                           null|         null|          null|       null|       219429359.0|       88998694.0|             26288400.0|          null|      10033053.0|                8263666.0|                          4.69|                          1.9|                               0.56|                      null|                               1766.0|            null|4679660580.0|              null|      null|         null|         null|          null|           null|                 null|               null|          null|        null|                  null|                      null|           null|                   null|            null|\n",
            "|OWID_ASI|     null|    Asia|2021-03-27| 27847144.0| 152603.0|        141559.286|    425743.0|    1169.0|           1402.714|               5950.676|                32.61|                         30.25|                  90.977|                  0.25|                            0.3|             null|        null|                    null|         null|                     null|                 null|                             null|                  null|                              null|     null|       null|                    null|                  null|              null|                           null|         null|          null|       null|       227565732.0|       91377497.0|             26614499.0|          null|       8136373.0|                7481247.0|                          4.86|                         1.95|                               0.57|                      null|                               1599.0|            null|4679660580.0|              null|      null|         null|         null|          null|           null|                 null|               null|          null|        null|                  null|                      null|           null|                   null|            null|\n",
            "|OWID_ASI|     null|    Asia|2021-03-28| 28010144.0| 163000.0|        146938.857|    426909.0|    1166.0|           1115.143|               5985.508|               34.832|                        31.399|                  91.226|                 0.249|                          0.238|             null|        null|                    null|         null|                     null|                 null|                             null|                  null|                              null|     null|       null|                    null|                  null|              null|                           null|         null|          null|       null|       232812847.0|       91984087.0|             26787351.0|          null|       5247115.0|                8076346.0|                          4.97|                         1.97|                               0.57|                      null|                               1726.0|            null|4679660580.0|              null|      null|         null|         null|          null|           null|                 null|               null|          null|        null|                  null|                      null|           null|                   null|            null|\n",
            "|OWID_ASI|     null|    Asia|2021-03-29| 28162967.0| 152823.0|        151536.857|    428055.0|    1146.0|             1128.0|               6018.164|               32.657|                        32.382|                  91.471|                 0.245|                          0.241|             null|        null|                    null|         null|                     null|                 null|                             null|                  null|                              null|     null|       null|                    null|                  null|              null|                           null|         null|          null|       null|       239050835.0|       93269225.0|             27128827.0|          null|       6237988.0|                7455394.0|                          5.11|                         1.99|                               0.58|                      null|                               1593.0|            null|4679660580.0|              null|      null|         null|         null|          null|           null|                 null|               null|          null|        null|                  null|                      null|           null|                   null|            null|\n",
            "|OWID_ASI|     null|    Asia|2021-03-30| 28324189.0| 161222.0|        155385.143|    429313.0|    1258.0|           1154.429|               6052.616|               34.452|                        33.204|                   91.74|                 0.269|                          0.247|             null|        null|                    null|         null|                     null|                 null|                             null|                  null|                              null|     null|       null|                    null|                  null|              null|                           null|         null|          null|       null|       245901938.0|       95752156.0|             27578145.0|          null|       6851103.0|                7456225.0|                          5.25|                         2.05|                               0.59|                      null|                               1593.0|            null|4679660580.0|              null|      null|         null|         null|          null|           null|                 null|               null|          null|        null|                  null|                      null|           null|                   null|            null|\n",
            "|OWID_ASI|     null|    Asia|2021-03-31| 28507539.0| 183350.0|          160626.0|    430775.0|    1462.0|           1203.143|               6091.796|                39.18|                        34.324|                  92.053|                 0.312|                          0.257|             null|        null|                    null|         null|                     null|                 null|                             null|                  null|                              null|     null|       null|                    null|                  null|              null|                           null|         null|          null|       null|       256218009.0|       99811617.0|             28482556.0|          null|      10316071.0|                8000492.0|                          5.48|                         2.13|                               0.61|                      null|                               1710.0|            null|4679660580.0|              null|      null|         null|         null|          null|           null|                 null|               null|          null|        null|                  null|                      null|           null|                   null|            null|\n",
            "|OWID_ASI|     null|    Asia|2021-04-01| 28705673.0| 198134.0|        166788.143|    432199.0|    1424.0|           1247.286|               6134.136|               42.339|                        35.641|                  92.357|                 0.304|                          0.267|             null|        null|                    null|         null|                     null|                 null|                             null|                  null|                              null|     null|       null|                    null|                  null|              null|                           null|         null|          null|       null|       268510621.0|      104042069.0|             29488178.0|          null|      12292612.0|                8444902.0|                          5.74|                         2.22|                               0.63|                      null|                               1805.0|            null|4679660580.0|              null|      null|         null|         null|          null|           null|                 null|               null|          null|        null|                  null|                      null|           null|                   null|            null|\n",
            "|OWID_ASI|     null|    Asia|2021-04-02| 28916095.0| 210422.0|        174507.714|    433804.0|    1605.0|           1318.571|               6179.101|               44.965|                        37.291|                    92.7|                 0.343|                          0.282|             null|        null|                    null|         null|                     null|                 null|                             null|                  null|                              null|     null|       null|                    null|                  null|              null|                           null|         null|          null|       null|       280768995.0|      108334334.0|             29997915.0|          null|      12258374.0|                8762805.0|                           6.0|                         2.32|                               0.64|                      null|                               1873.0|            null|4679660580.0|              null|      null|         null|         null|          null|           null|                 null|               null|          null|        null|                  null|                      null|           null|                   null|            null|\n",
            "|OWID_ASI|     null|    Asia|2021-04-03| 29124812.0| 208717.0|          182524.0|    435299.0|    1495.0|           1365.143|               6223.702|               44.601|                        39.004|                  93.019|                 0.319|                          0.292|             null|        null|                    null|         null|                     null|                 null|                             null|                  null|                              null|     null|       null|                    null|                  null|              null|                           null|         null|          null|       null|       287529399.0|      111490431.0|             30544786.0|          null|       6760404.0|                8566238.0|                          6.14|                         2.38|                               0.65|                      null|                               1831.0|            null|4679660580.0|              null|      null|         null|         null|          null|           null|                 null|               null|          null|        null|                  null|                      null|           null|                   null|            null|\n",
            "+--------+---------+--------+----------+-----------+---------+------------------+------------+----------+-------------------+-----------------------+---------------------+------------------------------+------------------------+----------------------+-------------------------------+-----------------+------------+------------------------+-------------+-------------------------+---------------------+---------------------------------+----------------------+----------------------------------+---------+-----------+------------------------+----------------------+------------------+-------------------------------+-------------+--------------+-----------+------------------+-----------------+-----------------------+--------------+----------------+-------------------------+------------------------------+-----------------------------+-----------------------------------+--------------------------+-------------------------------------+----------------+------------+------------------+----------+-------------+-------------+--------------+---------------+---------------------+-------------------+--------------+------------+----------------------+--------------------------+---------------+-----------------------+----------------+\n",
            "only showing top 10 rows\n",
            "\n"
          ]
        }
      ]
    },
    {
      "cell_type": "code",
      "metadata": {
        "colab": {
          "base_uri": "https://localhost:8080/"
        },
        "id": "XbnXwxMg_e9T",
        "outputId": "78aa7a74-4b6b-4632-9264-168dba8a6536"
      },
      "source": [
        "output = spark.sql('SELECT COUNT(*) as total, continent from cases GROUP BY continent')\n",
        "output.show()"
      ],
      "execution_count": 18,
      "outputs": [
        {
          "output_type": "stream",
          "name": "stdout",
          "text": [
            "+-----+-------------+\n",
            "|total|    continent|\n",
            "+-----+-------------+\n",
            "|27112|       Europe|\n",
            "|29353|       Africa|\n",
            "| 5290|         null|\n",
            "|14759|North America|\n",
            "| 6812|South America|\n",
            "| 5159|      Oceania|\n",
            "|26960|         Asia|\n",
            "+-----+-------------+\n",
            "\n"
          ]
        }
      ]
    },
    {
      "cell_type": "code",
      "metadata": {
        "id": "LgaCuK8Lvb47",
        "colab": {
          "base_uri": "https://localhost:8080/"
        },
        "outputId": "13b1f9ef-be84-402b-a1b1-4637429d429b"
      },
      "source": [
        "sdfData.registerTempTable(\"total_vaccinations\")\n",
        "sdfData.where(sdfData.total_vaccinations.isNull())\n",
        "output =  spark.sql('SELECT location, total_vaccinations from total_vaccinations WHERE date = \"2021-03-25\"')\n",
        "output.show(45)"
      ],
      "execution_count": 19,
      "outputs": [
        {
          "output_type": "stream",
          "name": "stdout",
          "text": [
            "+--------------------+------------------+\n",
            "|            location|total_vaccinations|\n",
            "+--------------------+------------------+\n",
            "|         Afghanistan|              null|\n",
            "|              Africa|         9709302.0|\n",
            "|             Albania|           59348.0|\n",
            "|             Algeria|              null|\n",
            "|             Andorra|              null|\n",
            "|              Angola|              null|\n",
            "|            Anguilla|              null|\n",
            "| Antigua and Barbuda|           26424.0|\n",
            "|           Argentina|         3365839.0|\n",
            "|             Armenia|              null|\n",
            "|                Asia|       209396306.0|\n",
            "|           Australia|          408410.0|\n",
            "|             Austria|         1509953.0|\n",
            "|          Azerbaijan|              null|\n",
            "|             Bahamas|              null|\n",
            "|             Bahrain|          707980.0|\n",
            "|          Bangladesh|         5139456.0|\n",
            "|            Barbados|           62802.0|\n",
            "|             Belarus|              null|\n",
            "|             Belgium|         1752182.0|\n",
            "|              Belize|              null|\n",
            "|               Benin|              null|\n",
            "|             Bermuda|              null|\n",
            "|              Bhutan|              null|\n",
            "|             Bolivia|          238178.0|\n",
            "|Bosnia and Herzeg...|              null|\n",
            "|            Botswana|               0.0|\n",
            "|              Brazil|        16557071.0|\n",
            "|              Brunei|              null|\n",
            "|            Bulgaria|          415601.0|\n",
            "|        Burkina Faso|              null|\n",
            "|             Burundi|              null|\n",
            "|            Cambodia|          531619.0|\n",
            "|            Cameroon|              null|\n",
            "|              Canada|         4583950.0|\n",
            "|          Cape Verde|              null|\n",
            "|      Cayman Islands|           44061.0|\n",
            "|Central African R...|              null|\n",
            "|                Chad|              null|\n",
            "|               Chile|         9438303.0|\n",
            "|               China|        91346000.0|\n",
            "|            Colombia|         1476364.0|\n",
            "|             Comoros|              null|\n",
            "|               Congo|              null|\n",
            "|          Costa Rica|              null|\n",
            "+--------------------+------------------+\n",
            "only showing top 45 rows\n",
            "\n"
          ]
        }
      ]
    },
    {
      "cell_type": "code",
      "metadata": {
        "colab": {
          "base_uri": "https://localhost:8080/"
        },
        "id": "_tnzt-W8I5qV",
        "outputId": "c732c90e-f375-40d3-b2c5-d91a0e3fbee1"
      },
      "source": [
        "output = spark.sql('SELECT * from cases WHERE new_cases > 150000' )\n",
        "output.show()"
      ],
      "execution_count": 20,
      "outputs": [
        {
          "output_type": "stream",
          "name": "stdout",
          "text": [
            "+--------+---------+--------+----------+-----------+---------+------------------+------------+----------+-------------------+-----------------------+---------------------+------------------------------+------------------------+----------------------+-------------------------------+-----------------+------------+------------------------+-------------+-------------------------+---------------------+---------------------------------+----------------------+----------------------------------+---------+-----------+------------------------+----------------------+------------------+-------------------------------+-------------+--------------+-----------+------------------+-----------------+-----------------------+--------------+----------------+-------------------------+------------------------------+-----------------------------+-----------------------------------+--------------------------+-------------------------------------+----------------+------------+------------------+----------+-------------+-------------+--------------+---------------+---------------------+-------------------+--------------+------------+----------------------+--------------------------+---------------+-----------------------+----------------+\n",
            "|iso_code|continent|location|      date|total_cases|new_cases|new_cases_smoothed|total_deaths|new_deaths|new_deaths_smoothed|total_cases_per_million|new_cases_per_million|new_cases_smoothed_per_million|total_deaths_per_million|new_deaths_per_million|new_deaths_smoothed_per_million|reproduction_rate|icu_patients|icu_patients_per_million|hosp_patients|hosp_patients_per_million|weekly_icu_admissions|weekly_icu_admissions_per_million|weekly_hosp_admissions|weekly_hosp_admissions_per_million|new_tests|total_tests|total_tests_per_thousand|new_tests_per_thousand|new_tests_smoothed|new_tests_smoothed_per_thousand|positive_rate|tests_per_case|tests_units|total_vaccinations|people_vaccinated|people_fully_vaccinated|total_boosters|new_vaccinations|new_vaccinations_smoothed|total_vaccinations_per_hundred|people_vaccinated_per_hundred|people_fully_vaccinated_per_hundred|total_boosters_per_hundred|new_vaccinations_smoothed_per_million|stringency_index|  population|population_density|median_age|aged_65_older|aged_70_older|gdp_per_capita|extreme_poverty|cardiovasc_death_rate|diabetes_prevalence|female_smokers|male_smokers|handwashing_facilities|hospital_beds_per_thousand|life_expectancy|human_development_index|excess_mortality|\n",
            "+--------+---------+--------+----------+-----------+---------+------------------+------------+----------+-------------------+-----------------------+---------------------+------------------------------+------------------------+----------------------+-------------------------------+-----------------+------------+------------------------+-------------+-------------------------+---------------------+---------------------------------+----------------------+----------------------------------+---------+-----------+------------------------+----------------------+------------------+-------------------------------+-------------+--------------+-----------+------------------+-----------------+-----------------------+--------------+----------------+-------------------------+------------------------------+-----------------------------+-----------------------------------+--------------------------+-------------------------------------+----------------+------------+------------------+----------+-------------+-------------+--------------+---------------+---------------------+-------------------+--------------+------------+----------------------+--------------------------+---------------+-----------------------+----------------+\n",
            "|OWID_ASI|     null|    Asia|2021-03-25| 27538156.0| 154999.0|        131895.429|    423468.0|    1115.0|           1337.857|               5884.648|               33.122|                        28.185|                  90.491|                 0.238|                          0.286|             null|        null|                    null|         null|                     null|                 null|                             null|                  null|                              null|     null|       null|                    null|                  null|              null|                           null|         null|          null|       null|       209396306.0|       85953029.0|             25603242.0|          null|       9181741.0|                7634793.0|                          4.47|                         1.84|                               0.55|                      null|                               1631.0|            null|4679660580.0|              null|      null|         null|         null|          null|           null|                 null|               null|          null|        null|                  null|                      null|           null|                   null|            null|\n",
            "|OWID_ASI|     null|    Asia|2021-03-26| 27694541.0| 156385.0|        136856.286|    424574.0|    1106.0|           1361.714|               5918.066|               33.418|                        29.245|                  90.728|                 0.236|                          0.291|             null|        null|                    null|         null|                     null|                 null|                             null|                  null|                              null|     null|       null|                    null|                  null|              null|                           null|         null|          null|       null|       219429359.0|       88998694.0|             26288400.0|          null|      10033053.0|                8263666.0|                          4.69|                          1.9|                               0.56|                      null|                               1766.0|            null|4679660580.0|              null|      null|         null|         null|          null|           null|                 null|               null|          null|        null|                  null|                      null|           null|                   null|            null|\n",
            "|OWID_ASI|     null|    Asia|2021-03-27| 27847144.0| 152603.0|        141559.286|    425743.0|    1169.0|           1402.714|               5950.676|                32.61|                         30.25|                  90.977|                  0.25|                            0.3|             null|        null|                    null|         null|                     null|                 null|                             null|                  null|                              null|     null|       null|                    null|                  null|              null|                           null|         null|          null|       null|       227565732.0|       91377497.0|             26614499.0|          null|       8136373.0|                7481247.0|                          4.86|                         1.95|                               0.57|                      null|                               1599.0|            null|4679660580.0|              null|      null|         null|         null|          null|           null|                 null|               null|          null|        null|                  null|                      null|           null|                   null|            null|\n",
            "|OWID_ASI|     null|    Asia|2021-03-28| 28010144.0| 163000.0|        146938.857|    426909.0|    1166.0|           1115.143|               5985.508|               34.832|                        31.399|                  91.226|                 0.249|                          0.238|             null|        null|                    null|         null|                     null|                 null|                             null|                  null|                              null|     null|       null|                    null|                  null|              null|                           null|         null|          null|       null|       232812847.0|       91984087.0|             26787351.0|          null|       5247115.0|                8076346.0|                          4.97|                         1.97|                               0.57|                      null|                               1726.0|            null|4679660580.0|              null|      null|         null|         null|          null|           null|                 null|               null|          null|        null|                  null|                      null|           null|                   null|            null|\n",
            "|OWID_ASI|     null|    Asia|2021-03-29| 28162967.0| 152823.0|        151536.857|    428055.0|    1146.0|             1128.0|               6018.164|               32.657|                        32.382|                  91.471|                 0.245|                          0.241|             null|        null|                    null|         null|                     null|                 null|                             null|                  null|                              null|     null|       null|                    null|                  null|              null|                           null|         null|          null|       null|       239050835.0|       93269225.0|             27128827.0|          null|       6237988.0|                7455394.0|                          5.11|                         1.99|                               0.58|                      null|                               1593.0|            null|4679660580.0|              null|      null|         null|         null|          null|           null|                 null|               null|          null|        null|                  null|                      null|           null|                   null|            null|\n",
            "|OWID_ASI|     null|    Asia|2021-03-30| 28324189.0| 161222.0|        155385.143|    429313.0|    1258.0|           1154.429|               6052.616|               34.452|                        33.204|                   91.74|                 0.269|                          0.247|             null|        null|                    null|         null|                     null|                 null|                             null|                  null|                              null|     null|       null|                    null|                  null|              null|                           null|         null|          null|       null|       245901938.0|       95752156.0|             27578145.0|          null|       6851103.0|                7456225.0|                          5.25|                         2.05|                               0.59|                      null|                               1593.0|            null|4679660580.0|              null|      null|         null|         null|          null|           null|                 null|               null|          null|        null|                  null|                      null|           null|                   null|            null|\n",
            "|OWID_ASI|     null|    Asia|2021-03-31| 28507539.0| 183350.0|          160626.0|    430775.0|    1462.0|           1203.143|               6091.796|                39.18|                        34.324|                  92.053|                 0.312|                          0.257|             null|        null|                    null|         null|                     null|                 null|                             null|                  null|                              null|     null|       null|                    null|                  null|              null|                           null|         null|          null|       null|       256218009.0|       99811617.0|             28482556.0|          null|      10316071.0|                8000492.0|                          5.48|                         2.13|                               0.61|                      null|                               1710.0|            null|4679660580.0|              null|      null|         null|         null|          null|           null|                 null|               null|          null|        null|                  null|                      null|           null|                   null|            null|\n",
            "|OWID_ASI|     null|    Asia|2021-04-01| 28705673.0| 198134.0|        166788.143|    432199.0|    1424.0|           1247.286|               6134.136|               42.339|                        35.641|                  92.357|                 0.304|                          0.267|             null|        null|                    null|         null|                     null|                 null|                             null|                  null|                              null|     null|       null|                    null|                  null|              null|                           null|         null|          null|       null|       268510621.0|      104042069.0|             29488178.0|          null|      12292612.0|                8444902.0|                          5.74|                         2.22|                               0.63|                      null|                               1805.0|            null|4679660580.0|              null|      null|         null|         null|          null|           null|                 null|               null|          null|        null|                  null|                      null|           null|                   null|            null|\n",
            "|OWID_ASI|     null|    Asia|2021-04-02| 28916095.0| 210422.0|        174507.714|    433804.0|    1605.0|           1318.571|               6179.101|               44.965|                        37.291|                    92.7|                 0.343|                          0.282|             null|        null|                    null|         null|                     null|                 null|                             null|                  null|                              null|     null|       null|                    null|                  null|              null|                           null|         null|          null|       null|       280768995.0|      108334334.0|             29997915.0|          null|      12258374.0|                8762805.0|                           6.0|                         2.32|                               0.64|                      null|                               1873.0|            null|4679660580.0|              null|      null|         null|         null|          null|           null|                 null|               null|          null|        null|                  null|                      null|           null|                   null|            null|\n",
            "|OWID_ASI|     null|    Asia|2021-04-03| 29124812.0| 208717.0|          182524.0|    435299.0|    1495.0|           1365.143|               6223.702|               44.601|                        39.004|                  93.019|                 0.319|                          0.292|             null|        null|                    null|         null|                     null|                 null|                             null|                  null|                              null|     null|       null|                    null|                  null|              null|                           null|         null|          null|       null|       287529399.0|      111490431.0|             30544786.0|          null|       6760404.0|                8566238.0|                          6.14|                         2.38|                               0.65|                      null|                               1831.0|            null|4679660580.0|              null|      null|         null|         null|          null|           null|                 null|               null|          null|        null|                  null|                      null|           null|                   null|            null|\n",
            "|OWID_ASI|     null|    Asia|2021-04-04| 29349420.0| 224608.0|        191325.143|    437085.0|    1786.0|           1453.714|               6271.698|               47.997|                        40.884|                  93.401|                 0.382|                          0.311|             null|        null|                    null|         null|                     null|                 null|                             null|                  null|                              null|     null|       null|                    null|                  null|              null|                           null|         null|          null|       null|       294928877.0|      114999626.0|             30976807.0|          null|       7399478.0|                8873719.0|                           6.3|                         2.46|                               0.66|                      null|                               1896.0|            null|4679660580.0|              null|      null|         null|         null|          null|           null|                 null|               null|          null|        null|                  null|                      null|           null|                   null|            null|\n",
            "|OWID_ASI|     null|    Asia|2021-04-05| 29559014.0| 209594.0|        199435.286|    438574.0|    1489.0|           1502.714|               6316.487|               44.788|                        42.617|                  93.719|                 0.318|                          0.321|             null|        null|                    null|         null|                     null|                 null|                             null|                  null|                              null|     null|       null|                    null|                  null|              null|                           null|         null|          null|       null|       302923615.0|      119311230.0|             31609957.0|          null|       7994738.0|                9124683.0|                          6.47|                         2.55|                               0.68|                      null|                               1950.0|            null|4679660580.0|              null|      null|         null|         null|          null|           null|                 null|               null|          null|        null|                  null|                      null|           null|                   null|            null|\n",
            "|OWID_ASI|     null|    Asia|2021-04-06| 29804574.0| 245560.0|        211483.571|    440663.0|    2089.0|           1621.429|               6368.961|               52.474|                        45.192|                  94.166|                 0.446|                          0.346|             null|        null|                    null|         null|                     null|                 null|                             null|                  null|                              null|     null|       null|                    null|                  null|              null|                           null|         null|          null|       null|       312351652.0|      124250703.0|             32662721.0|          null|       9428037.0|                9492816.0|                          6.67|                         2.66|                                0.7|                      null|                               2029.0|            null|4679660580.0|              null|      null|         null|         null|          null|           null|                 null|               null|          null|        null|                  null|                      null|           null|                   null|            null|\n",
            "|OWID_ASI|     null|    Asia|2021-04-07| 30073075.0| 268501.0|          223648.0|    442663.0|    2000.0|           1698.286|               6426.337|               57.376|                        47.792|                  94.593|                 0.427|                          0.363|             null|        null|                    null|         null|                     null|                 null|                             null|                  null|                              null|     null|       null|                    null|                  null|              null|                           null|         null|          null|       null|       320077381.0|      127998867.0|             33240245.0|          null|       7725729.0|                9122767.0|                          6.84|                         2.74|                               0.71|                      null|                               1949.0|            null|4679660580.0|              null|      null|         null|         null|          null|           null|                 null|               null|          null|        null|                  null|                      null|           null|                   null|            null|\n",
            "|OWID_ASI|     null|    Asia|2021-04-08| 30353550.0| 280475.0|          235411.0|    444674.0|    2011.0|           1782.143|               6486.272|               59.935|                        50.305|                  95.023|                  0.43|                          0.381|             null|        null|                    null|         null|                     null|                 null|                             null|                  null|                              null|     null|       null|                    null|                  null|              null|                           null|         null|          null|       null|       332626344.0|      132909950.0|             34321860.0|          null|      12548963.0|                9159389.0|                          7.11|                         2.84|                               0.73|                      null|                               1957.0|            null|4679660580.0|              null|      null|         null|         null|          null|           null|                 null|               null|          null|        null|                  null|                      null|           null|                   null|            null|\n",
            "|OWID_ASI|     null|    Asia|2021-04-09| 30646718.0| 293168.0|        247231.857|    446901.0|    2227.0|             1871.0|               6548.919|               62.647|                        52.831|                  95.499|                 0.476|                            0.4|             null|        null|                    null|         null|                     null|                 null|                             null|                  null|                              null|     null|       null|                    null|                  null|              null|                           null|         null|          null|       null|       343308595.0|      136740789.0|             34998311.0|          null|      10682251.0|                8934229.0|                          7.34|                         2.92|                               0.75|                      null|                               1909.0|            null|4679660580.0|              null|      null|         null|         null|          null|           null|                 null|               null|          null|        null|                  null|                      null|           null|                   null|            null|\n",
            "|OWID_ASI|     null|    Asia|2021-04-10| 30935537.0| 288819.0|          258675.0|    449031.0|    2130.0|           1961.714|               6610.637|               61.718|                        55.276|                  95.954|                 0.455|                          0.419|             null|        null|                    null|         null|                     null|                 null|                             null|                  null|                              null|     null|       null|                    null|                  null|              null|                           null|         null|          null|       null|       352195525.0|      140957902.0|             36113684.0|          null|       8886930.0|                9238018.0|                          7.53|                         3.01|                               0.77|                      null|                               1974.0|            null|4679660580.0|              null|      null|         null|         null|          null|           null|                 null|               null|          null|        null|                  null|                      null|           null|                   null|            null|\n",
            "|OWID_ASI|     null|    Asia|2021-04-11| 31241352.0| 305815.0|          270276.0|    451337.0|    2306.0|             2036.0|               6675.987|                65.35|                        57.755|                  96.447|                 0.493|                          0.435|             null|        null|                    null|         null|                     null|                 null|                             null|                  null|                              null|     null|       null|                    null|                  null|              null|                           null|         null|          null|       null|       358980499.0|      144113867.0|             36674460.0|          null|       6784974.0|                9150232.0|                          7.67|                         3.08|                               0.78|                      null|                               1955.0|            null|4679660580.0|              null|      null|         null|         null|          null|           null|                 null|               null|          null|        null|                  null|                      null|           null|                   null|            null|\n",
            "|OWID_ASI|     null|    Asia|2021-04-12| 31544498.0| 303146.0|        283640.571|    453645.0|    2308.0|             2153.0|               6740.766|               64.779|                        60.611|                   96.94|                 0.493|                           0.46|             null|        null|                    null|         null|                     null|                 null|                             null|                  null|                              null|     null|       null|                    null|                  null|              null|                           null|         null|          null|       null|       369255773.0|      148481015.0|             37816427.0|          null|      10275274.0|                9476023.0|                          7.89|                         3.17|                               0.81|                      null|                               2025.0|            null|4679660580.0|              null|      null|         null|         null|          null|           null|                 null|               null|          null|        null|                  null|                      null|           null|                   null|            null|\n",
            "|OWID_ASI|     null|    Asia|2021-04-13| 31877292.0| 332794.0|        296102.571|    456066.0|    2421.0|           2200.429|               6811.881|               71.115|                        63.274|                  97.457|                 0.517|                           0.47|             null|        null|                    null|         null|                     null|                 null|                             null|                  null|                              null|     null|       null|                    null|                  null|              null|                           null|         null|          null|       null|       376992543.0|      151599137.0|             38487966.0|          null|       7736770.0|                9234413.0|                          8.06|                         3.24|                               0.82|                      null|                               1973.0|            null|4679660580.0|              null|      null|         null|         null|          null|           null|                 null|               null|          null|        null|                  null|                      null|           null|                   null|            null|\n",
            "+--------+---------+--------+----------+-----------+---------+------------------+------------+----------+-------------------+-----------------------+---------------------+------------------------------+------------------------+----------------------+-------------------------------+-----------------+------------+------------------------+-------------+-------------------------+---------------------+---------------------------------+----------------------+----------------------------------+---------+-----------+------------------------+----------------------+------------------+-------------------------------+-------------+--------------+-----------+------------------+-----------------+-----------------------+--------------+----------------+-------------------------+------------------------------+-----------------------------+-----------------------------------+--------------------------+-------------------------------------+----------------+------------+------------------+----------+-------------+-------------+--------------+---------------+---------------------+-------------------+--------------+------------+----------------------+--------------------------+---------------+-----------------------+----------------+\n",
            "only showing top 20 rows\n",
            "\n"
          ]
        }
      ]
    },
    {
      "cell_type": "code",
      "metadata": {
        "colab": {
          "base_uri": "https://localhost:8080/"
        },
        "id": "eo_7uvRYI9fM",
        "outputId": "3cd2170d-d483-4a8c-ee35-f2e376e3f06e"
      },
      "source": [
        "output = spark.sql('SELECT continent, COUNT(*) as total from cases GROUP BY continent')\n",
        "output.show()"
      ],
      "execution_count": 21,
      "outputs": [
        {
          "output_type": "stream",
          "name": "stdout",
          "text": [
            "+-------------+-----+\n",
            "|    continent|total|\n",
            "+-------------+-----+\n",
            "|       Europe|27112|\n",
            "|       Africa|29353|\n",
            "|         null| 5290|\n",
            "|North America|14759|\n",
            "|South America| 6812|\n",
            "|      Oceania| 5159|\n",
            "|         Asia|26960|\n",
            "+-------------+-----+\n",
            "\n"
          ]
        }
      ]
    },
    {
      "cell_type": "code",
      "metadata": {
        "id": "flg-Jrz3MIUj"
      },
      "source": [
        "output.write.format('json').save('filtered.json')"
      ],
      "execution_count": 22,
      "outputs": []
    }
  ]
}