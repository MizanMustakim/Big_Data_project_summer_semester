{
  "nbformat": 4,
  "nbformat_minor": 0,
  "metadata": {
    "colab": {
      "name": "Big_data_project.ipynb",
      "provenance": [],
      "collapsed_sections": [],
      "include_colab_link": true
    },
    "kernelspec": {
      "name": "python3",
      "display_name": "Python 3"
    },
    "language_info": {
      "name": "python"
    },
    "accelerator": "GPU"
  },
  "cells": [
    {
      "cell_type": "markdown",
      "metadata": {
        "id": "view-in-github",
        "colab_type": "text"
      },
      "source": [
        "<a href=\"https://colab.research.google.com/github/MizanMustakim/Big_Data_project_summer_semester/blob/main/Big_data_project.ipynb\" target=\"_parent\"><img src=\"https://colab.research.google.com/assets/colab-badge.svg\" alt=\"Open In Colab\"/></a>"
      ]
    },
    {
      "cell_type": "markdown",
      "metadata": {
        "id": "3GfUSNoUMrLz"
      },
      "source": [
        "# Data Collection work"
      ]
    },
    {
      "cell_type": "markdown",
      "metadata": {
        "id": "OHJpYVqmM3ZL"
      },
      "source": [
        "**Import the libraries**"
      ]
    },
    {
      "cell_type": "code",
      "metadata": {
        "id": "vM0GBsSTpg32"
      },
      "source": [
        "from bs4 import BeautifulSoup\n",
        "import requests\n",
        "import pandas as pd\n",
        "import urllib"
      ],
      "execution_count": 1,
      "outputs": []
    },
    {
      "cell_type": "markdown",
      "metadata": {
        "id": "3v7a2VxIM_yU"
      },
      "source": [
        "**Collecting DATA_1**"
      ]
    },
    {
      "cell_type": "code",
      "metadata": {
        "id": "M7p-bJPnpuUI"
      },
      "source": [
        "url = \"https://www.worldometers.info/coronavirus/?utm_campaign=homeAdvegas1?%22%20%5Cl%22countries\"\n",
        "data = requests.get(url)\n",
        "soup = BeautifulSoup(data.text,'html5lib')"
      ],
      "execution_count": 2,
      "outputs": []
    },
    {
      "cell_type": "code",
      "metadata": {
        "id": "dyKSZNSLp1zI"
      },
      "source": [
        "covid_dict = {}\n",
        "div = soup.find_all(\"div\", {\"id\": \"ExplorerContainer\"})\n",
        "for i in div:\n",
        "  content_div = i.find(\"div\",{\"class\":\"tableTab\"})\n",
        "  covid_dict[i.find(\"h1\").text.replace(\":\",\"\").strip()] = content_div.find(\"span\").text.strip()"
      ],
      "execution_count": 3,
      "outputs": []
    },
    {
      "cell_type": "code",
      "metadata": {
        "id": "-H5sknHaqrBy",
        "colab": {
          "base_uri": "https://localhost:8080/"
        },
        "outputId": "ee329ae5-af94-45a4-ab39-af366ad1dae8"
      },
      "source": [
        "tables = soup.find_all('table')\n",
        "table_header = tables[0].find_all('th')\n",
        "table_head = []\n",
        "for i in range(15):\n",
        "  if i != 0:\n",
        "    table_head.append(table_header[i].text.replace(\"\\n\",\"\").replace(\"\\xa0\",\"\"))\n",
        "print(table_head)"
      ],
      "execution_count": 4,
      "outputs": [
        {
          "output_type": "stream",
          "name": "stdout",
          "text": [
            "['Country,Other', 'TotalCases', 'NewCases', 'TotalDeaths', 'NewDeaths', 'TotalRecovered', 'NewRecovered', 'ActiveCases', 'Serious,Critical', 'TotCases/1M pop', 'Deaths/1M pop', 'TotalTests', 'Tests/1M pop', 'Population']\n"
          ]
        }
      ]
    },
    {
      "cell_type": "code",
      "metadata": {
        "id": "6LiNPZ4Kq2mB"
      },
      "source": [
        "Covid_data = pd.DataFrame(columns=table_head)\n",
        "for row in tables[0].tbody.find_all('tr'):\n",
        "  col = row.find_all('td')\n",
        "  if (col != []):\n",
        "    country = col[1].text.strip()\n",
        "    totalCases = col[2].text.strip()\n",
        "    newCases = col[3].text.strip()\n",
        "    totalDeaths = col[4].text.strip()\n",
        "    newDeaths = col[5].text.strip()\n",
        "    totalRecovered = col[6].text.strip()\n",
        "    newRecovered = col[7].text.strip()\n",
        "    activeCases = col[8].text.strip()\n",
        "    serious = col[9].text.strip()\n",
        "    totalCases_per_m = col[10].text.strip()\n",
        "    deaths = col[11].text.strip()\n",
        "    totalTests = col[12].text.strip()\n",
        "    tests_per_m = col[13].text.strip()\n",
        "    population = col[14].text.strip()\n",
        "    Covid_data = Covid_data.append({\"Country,Other\":country,\"TotalCases\":totalCases,\"NewCases\":newCases,\n",
        "                                    \"TotalDeaths\":totalDeaths,\"NewDeaths\":newDeaths,\"TotalRecovered\":totalRecovered,\n",
        "                                    \"NewRecovered\":newRecovered,\"ActiveCases\":activeCases,\"Serious,Critical\":serious,\n",
        "                                    \"TotCases/1M pop\":totalCases_per_m,\"Deaths/1M pop\":deaths,\"TotalTests\":totalTests,\n",
        "                                    \"Tests/1M pop\":tests_per_m,\"Population\":population},ignore_index=True)"
      ],
      "execution_count": 5,
      "outputs": []
    },
    {
      "cell_type": "code",
      "metadata": {
        "id": "R1nM9qORq6CA"
      },
      "source": [
        "Covid_data.drop(Covid_data.index[:7],inplace=True)\n",
        "Covid_data.to_csv(\"Covid_data.csv\",index=False)"
      ],
      "execution_count": 6,
      "outputs": []
    },
    {
      "cell_type": "markdown",
      "metadata": {
        "id": "1RDKmH3cNI60"
      },
      "source": [
        "**Collecting DATA_2**"
      ]
    },
    {
      "cell_type": "code",
      "metadata": {
        "id": "Jn_dGN_Zrsq_",
        "colab": {
          "base_uri": "https://localhost:8080/"
        },
        "outputId": "1e936a79-1b1b-4c42-b173-926449b0dfe0"
      },
      "source": [
        "!wget --no-check-certificate \\\n",
        "  https://covid.ourworldindata.org/data/owid-covid-data.csv \\\n",
        "  -O /content/owid-covid-data.csv"
      ],
      "execution_count": 7,
      "outputs": [
        {
          "output_type": "stream",
          "name": "stdout",
          "text": [
            "--2021-09-26 07:18:33--  https://covid.ourworldindata.org/data/owid-covid-data.csv\n",
            "Resolving covid.ourworldindata.org (covid.ourworldindata.org)... 104.21.233.137, 104.21.233.138, 2606:4700:3038::6815:e989, ...\n",
            "Connecting to covid.ourworldindata.org (covid.ourworldindata.org)|104.21.233.137|:443... connected.\n",
            "HTTP request sent, awaiting response... 200 OK\n",
            "Length: unspecified [text/csv]\n",
            "Saving to: ‘/content/owid-covid-data.csv’\n",
            "\n",
            "/content/owid-covid     [    <=>             ]  30.91M  50.8MB/s    in 0.6s    \n",
            "\n",
            "2021-09-26 07:18:34 (50.8 MB/s) - ‘/content/owid-covid-data.csv’ saved [32408093]\n",
            "\n"
          ]
        }
      ]
    },
    {
      "cell_type": "markdown",
      "metadata": {
        "id": "g2UyLBpaNNAs"
      },
      "source": [
        "# Data Processing Work"
      ]
    },
    {
      "cell_type": "markdown",
      "metadata": {
        "id": "2w08T7wmNVCy"
      },
      "source": [
        "**Install PySpark**"
      ]
    },
    {
      "cell_type": "code",
      "metadata": {
        "id": "32I8LNJg941-",
        "colab": {
          "base_uri": "https://localhost:8080/"
        },
        "outputId": "dd16bf30-4501-455a-c7ab-d15cf1e1e165"
      },
      "source": [
        "!pip install pyspark"
      ],
      "execution_count": 8,
      "outputs": [
        {
          "output_type": "stream",
          "name": "stdout",
          "text": [
            "Collecting pyspark\n",
            "  Downloading pyspark-3.1.2.tar.gz (212.4 MB)\n",
            "\u001b[K     |████████████████████████████████| 212.4 MB 74 kB/s \n",
            "\u001b[?25hCollecting py4j==0.10.9\n",
            "  Downloading py4j-0.10.9-py2.py3-none-any.whl (198 kB)\n",
            "\u001b[K     |████████████████████████████████| 198 kB 46.1 MB/s \n",
            "\u001b[?25hBuilding wheels for collected packages: pyspark\n",
            "  Building wheel for pyspark (setup.py) ... \u001b[?25l\u001b[?25hdone\n",
            "  Created wheel for pyspark: filename=pyspark-3.1.2-py2.py3-none-any.whl size=212880768 sha256=d450b2b744b80f8bc2ecca44ed37a78100e82191606e32c9c9404f6d217bc1e5\n",
            "  Stored in directory: /root/.cache/pip/wheels/a5/0a/c1/9561f6fecb759579a7d863dcd846daaa95f598744e71b02c77\n",
            "Successfully built pyspark\n",
            "Installing collected packages: py4j, pyspark\n",
            "Successfully installed py4j-0.10.9 pyspark-3.1.2\n"
          ]
        }
      ]
    },
    {
      "cell_type": "markdown",
      "metadata": {
        "id": "mTL_fXpKNZr9"
      },
      "source": [
        "**Importing Libraries**"
      ]
    },
    {
      "cell_type": "code",
      "metadata": {
        "id": "ArTbFYyG97fL"
      },
      "source": [
        "import pyspark\n",
        "from pyspark.sql import SparkSession\n",
        "from pyspark.sql.types import StructType,StructField, StringType, IntegerType, DecimalType, LongType\n",
        "from pyspark.sql.types import ArrayType, DoubleType, BooleanType\n",
        "from pyspark.sql.functions import col,array_contains\n",
        "from pyspark.sql.functions import regexp_replace, regexp_extract, col\n",
        "from pyspark.sql.types import IntegerType"
      ],
      "execution_count": 9,
      "outputs": []
    },
    {
      "cell_type": "markdown",
      "metadata": {
        "id": "6dQxjuckNvZD"
      },
      "source": [
        "**Pre-processing DATA with PySpark**"
      ]
    },
    {
      "cell_type": "markdown",
      "metadata": {
        "id": "XA5zXDgvkHr4"
      },
      "source": [
        "**vaccine Data**"
      ]
    },
    {
      "cell_type": "markdown",
      "metadata": {
        "id": "YB7lNgI1ldme"
      },
      "source": [
        "Reading the vaccination csv data in **PySpark**"
      ]
    },
    {
      "cell_type": "code",
      "metadata": {
        "id": "-F2PNlSD_QnU",
        "colab": {
          "base_uri": "https://localhost:8080/"
        },
        "outputId": "a4afc684-f80b-49ab-fbb1-4b8287d77352"
      },
      "source": [
        "spark = SparkSession.builder.appName('CSV reader').getOrCreate()\n",
        "\n",
        "#extract\n",
        "df = '/content/owid-covid-data.csv'\n",
        "sdfData = spark.read.csv(df, header=True, sep=\",\").cache()\n",
        "sdfData = sdfData.withColumnRenamed(\"location\", \"Country\")\n",
        "\n",
        "sdfData.show(10)"
      ],
      "execution_count": 10,
      "outputs": [
        {
          "output_type": "stream",
          "name": "stdout",
          "text": [
            "+--------+---------+-----------+----------+-----------+---------+------------------+------------+----------+-------------------+-----------------------+---------------------+------------------------------+------------------------+----------------------+-------------------------------+-----------------+------------+------------------------+-------------+-------------------------+---------------------+---------------------------------+----------------------+----------------------------------+---------+-----------+------------------------+----------------------+------------------+-------------------------------+-------------+--------------+-----------+------------------+-----------------+-----------------------+--------------+----------------+-------------------------+------------------------------+-----------------------------+-----------------------------------+--------------------------+-------------------------------------+----------------+----------+------------------+----------+-------------+-------------+--------------+---------------+---------------------+-------------------+--------------+------------+----------------------+--------------------------+---------------+-----------------------+------------------------------------+---------------------------+----------------+\n",
            "|iso_code|continent|    Country|      date|total_cases|new_cases|new_cases_smoothed|total_deaths|new_deaths|new_deaths_smoothed|total_cases_per_million|new_cases_per_million|new_cases_smoothed_per_million|total_deaths_per_million|new_deaths_per_million|new_deaths_smoothed_per_million|reproduction_rate|icu_patients|icu_patients_per_million|hosp_patients|hosp_patients_per_million|weekly_icu_admissions|weekly_icu_admissions_per_million|weekly_hosp_admissions|weekly_hosp_admissions_per_million|new_tests|total_tests|total_tests_per_thousand|new_tests_per_thousand|new_tests_smoothed|new_tests_smoothed_per_thousand|positive_rate|tests_per_case|tests_units|total_vaccinations|people_vaccinated|people_fully_vaccinated|total_boosters|new_vaccinations|new_vaccinations_smoothed|total_vaccinations_per_hundred|people_vaccinated_per_hundred|people_fully_vaccinated_per_hundred|total_boosters_per_hundred|new_vaccinations_smoothed_per_million|stringency_index|population|population_density|median_age|aged_65_older|aged_70_older|gdp_per_capita|extreme_poverty|cardiovasc_death_rate|diabetes_prevalence|female_smokers|male_smokers|handwashing_facilities|hospital_beds_per_thousand|life_expectancy|human_development_index|excess_mortality_cumulative_absolute|excess_mortality_cumulative|excess_mortality|\n",
            "+--------+---------+-----------+----------+-----------+---------+------------------+------------+----------+-------------------+-----------------------+---------------------+------------------------------+------------------------+----------------------+-------------------------------+-----------------+------------+------------------------+-------------+-------------------------+---------------------+---------------------------------+----------------------+----------------------------------+---------+-----------+------------------------+----------------------+------------------+-------------------------------+-------------+--------------+-----------+------------------+-----------------+-----------------------+--------------+----------------+-------------------------+------------------------------+-----------------------------+-----------------------------------+--------------------------+-------------------------------------+----------------+----------+------------------+----------+-------------+-------------+--------------+---------------+---------------------+-------------------+--------------+------------+----------------------+--------------------------+---------------+-----------------------+------------------------------------+---------------------------+----------------+\n",
            "|     AFG|     Asia|Afghanistan|2020-02-24|        5.0|      5.0|              null|        null|      null|               null|                  0.126|                0.126|                          null|                    null|                  null|                           null|             null|        null|                    null|         null|                     null|                 null|                             null|                  null|                              null|     null|       null|                    null|                  null|              null|                           null|         null|          null|       null|              null|             null|                   null|          null|            null|                     null|                          null|                         null|                               null|                      null|                                 null|            8.33|39835428.0|            54.422|      18.6|        2.581|        1.337|      1803.987|           null|              597.029|               9.59|          null|        null|                37.746|                       0.5|          64.83|                  0.511|                                null|                       null|            null|\n",
            "|     AFG|     Asia|Afghanistan|2020-02-25|        5.0|      0.0|              null|        null|      null|               null|                  0.126|                  0.0|                          null|                    null|                  null|                           null|             null|        null|                    null|         null|                     null|                 null|                             null|                  null|                              null|     null|       null|                    null|                  null|              null|                           null|         null|          null|       null|              null|             null|                   null|          null|            null|                     null|                          null|                         null|                               null|                      null|                                 null|            8.33|39835428.0|            54.422|      18.6|        2.581|        1.337|      1803.987|           null|              597.029|               9.59|          null|        null|                37.746|                       0.5|          64.83|                  0.511|                                null|                       null|            null|\n",
            "|     AFG|     Asia|Afghanistan|2020-02-26|        5.0|      0.0|              null|        null|      null|               null|                  0.126|                  0.0|                          null|                    null|                  null|                           null|             null|        null|                    null|         null|                     null|                 null|                             null|                  null|                              null|     null|       null|                    null|                  null|              null|                           null|         null|          null|       null|              null|             null|                   null|          null|            null|                     null|                          null|                         null|                               null|                      null|                                 null|            8.33|39835428.0|            54.422|      18.6|        2.581|        1.337|      1803.987|           null|              597.029|               9.59|          null|        null|                37.746|                       0.5|          64.83|                  0.511|                                null|                       null|            null|\n",
            "|     AFG|     Asia|Afghanistan|2020-02-27|        5.0|      0.0|              null|        null|      null|               null|                  0.126|                  0.0|                          null|                    null|                  null|                           null|             null|        null|                    null|         null|                     null|                 null|                             null|                  null|                              null|     null|       null|                    null|                  null|              null|                           null|         null|          null|       null|              null|             null|                   null|          null|            null|                     null|                          null|                         null|                               null|                      null|                                 null|            8.33|39835428.0|            54.422|      18.6|        2.581|        1.337|      1803.987|           null|              597.029|               9.59|          null|        null|                37.746|                       0.5|          64.83|                  0.511|                                null|                       null|            null|\n",
            "|     AFG|     Asia|Afghanistan|2020-02-28|        5.0|      0.0|              null|        null|      null|               null|                  0.126|                  0.0|                          null|                    null|                  null|                           null|             null|        null|                    null|         null|                     null|                 null|                             null|                  null|                              null|     null|       null|                    null|                  null|              null|                           null|         null|          null|       null|              null|             null|                   null|          null|            null|                     null|                          null|                         null|                               null|                      null|                                 null|            8.33|39835428.0|            54.422|      18.6|        2.581|        1.337|      1803.987|           null|              597.029|               9.59|          null|        null|                37.746|                       0.5|          64.83|                  0.511|                                null|                       null|            null|\n",
            "|     AFG|     Asia|Afghanistan|2020-02-29|        5.0|      0.0|             0.714|        null|      null|                0.0|                  0.126|                  0.0|                         0.018|                    null|                  null|                            0.0|             null|        null|                    null|         null|                     null|                 null|                             null|                  null|                              null|     null|       null|                    null|                  null|              null|                           null|         null|          null|       null|              null|             null|                   null|          null|            null|                     null|                          null|                         null|                               null|                      null|                                 null|            8.33|39835428.0|            54.422|      18.6|        2.581|        1.337|      1803.987|           null|              597.029|               9.59|          null|        null|                37.746|                       0.5|          64.83|                  0.511|                                null|                       null|            null|\n",
            "|     AFG|     Asia|Afghanistan|2020-03-01|        5.0|      0.0|             0.714|        null|      null|                0.0|                  0.126|                  0.0|                         0.018|                    null|                  null|                            0.0|             null|        null|                    null|         null|                     null|                 null|                             null|                  null|                              null|     null|       null|                    null|                  null|              null|                           null|         null|          null|       null|              null|             null|                   null|          null|            null|                     null|                          null|                         null|                               null|                      null|                                 null|           27.78|39835428.0|            54.422|      18.6|        2.581|        1.337|      1803.987|           null|              597.029|               9.59|          null|        null|                37.746|                       0.5|          64.83|                  0.511|                                null|                       null|            null|\n",
            "|     AFG|     Asia|Afghanistan|2020-03-02|        5.0|      0.0|               0.0|        null|      null|                0.0|                  0.126|                  0.0|                           0.0|                    null|                  null|                            0.0|             null|        null|                    null|         null|                     null|                 null|                             null|                  null|                              null|     null|       null|                    null|                  null|              null|                           null|         null|          null|       null|              null|             null|                   null|          null|            null|                     null|                          null|                         null|                               null|                      null|                                 null|           27.78|39835428.0|            54.422|      18.6|        2.581|        1.337|      1803.987|           null|              597.029|               9.59|          null|        null|                37.746|                       0.5|          64.83|                  0.511|                                null|                       null|            null|\n",
            "|     AFG|     Asia|Afghanistan|2020-03-03|        5.0|      0.0|               0.0|        null|      null|                0.0|                  0.126|                  0.0|                           0.0|                    null|                  null|                            0.0|             null|        null|                    null|         null|                     null|                 null|                             null|                  null|                              null|     null|       null|                    null|                  null|              null|                           null|         null|          null|       null|              null|             null|                   null|          null|            null|                     null|                          null|                         null|                               null|                      null|                                 null|           27.78|39835428.0|            54.422|      18.6|        2.581|        1.337|      1803.987|           null|              597.029|               9.59|          null|        null|                37.746|                       0.5|          64.83|                  0.511|                                null|                       null|            null|\n",
            "|     AFG|     Asia|Afghanistan|2020-03-04|        5.0|      0.0|               0.0|        null|      null|                0.0|                  0.126|                  0.0|                           0.0|                    null|                  null|                            0.0|             null|        null|                    null|         null|                     null|                 null|                             null|                  null|                              null|     null|       null|                    null|                  null|              null|                           null|         null|          null|       null|              null|             null|                   null|          null|            null|                     null|                          null|                         null|                               null|                      null|                                 null|           27.78|39835428.0|            54.422|      18.6|        2.581|        1.337|      1803.987|           null|              597.029|               9.59|          null|        null|                37.746|                       0.5|          64.83|                  0.511|                                null|                       null|            null|\n",
            "+--------+---------+-----------+----------+-----------+---------+------------------+------------+----------+-------------------+-----------------------+---------------------+------------------------------+------------------------+----------------------+-------------------------------+-----------------+------------+------------------------+-------------+-------------------------+---------------------+---------------------------------+----------------------+----------------------------------+---------+-----------+------------------------+----------------------+------------------+-------------------------------+-------------+--------------+-----------+------------------+-----------------+-----------------------+--------------+----------------+-------------------------+------------------------------+-----------------------------+-----------------------------------+--------------------------+-------------------------------------+----------------+----------+------------------+----------+-------------+-------------+--------------+---------------+---------------------+-------------------+--------------+------------+----------------------+--------------------------+---------------+-----------------------+------------------------------------+---------------------------+----------------+\n",
            "only showing top 10 rows\n",
            "\n"
          ]
        }
      ]
    },
    {
      "cell_type": "markdown",
      "metadata": {
        "id": "Uu2fFrsHloiw"
      },
      "source": [
        "Checking the Schema of the created dataframe"
      ]
    },
    {
      "cell_type": "code",
      "metadata": {
        "id": "CYB-BggsAQsr",
        "colab": {
          "base_uri": "https://localhost:8080/"
        },
        "outputId": "ca932614-5bb8-4313-8cd6-be7c63d646e6"
      },
      "source": [
        "sdfData.printSchema()"
      ],
      "execution_count": 11,
      "outputs": [
        {
          "output_type": "stream",
          "name": "stdout",
          "text": [
            "root\n",
            " |-- iso_code: string (nullable = true)\n",
            " |-- continent: string (nullable = true)\n",
            " |-- Country: string (nullable = true)\n",
            " |-- date: string (nullable = true)\n",
            " |-- total_cases: string (nullable = true)\n",
            " |-- new_cases: string (nullable = true)\n",
            " |-- new_cases_smoothed: string (nullable = true)\n",
            " |-- total_deaths: string (nullable = true)\n",
            " |-- new_deaths: string (nullable = true)\n",
            " |-- new_deaths_smoothed: string (nullable = true)\n",
            " |-- total_cases_per_million: string (nullable = true)\n",
            " |-- new_cases_per_million: string (nullable = true)\n",
            " |-- new_cases_smoothed_per_million: string (nullable = true)\n",
            " |-- total_deaths_per_million: string (nullable = true)\n",
            " |-- new_deaths_per_million: string (nullable = true)\n",
            " |-- new_deaths_smoothed_per_million: string (nullable = true)\n",
            " |-- reproduction_rate: string (nullable = true)\n",
            " |-- icu_patients: string (nullable = true)\n",
            " |-- icu_patients_per_million: string (nullable = true)\n",
            " |-- hosp_patients: string (nullable = true)\n",
            " |-- hosp_patients_per_million: string (nullable = true)\n",
            " |-- weekly_icu_admissions: string (nullable = true)\n",
            " |-- weekly_icu_admissions_per_million: string (nullable = true)\n",
            " |-- weekly_hosp_admissions: string (nullable = true)\n",
            " |-- weekly_hosp_admissions_per_million: string (nullable = true)\n",
            " |-- new_tests: string (nullable = true)\n",
            " |-- total_tests: string (nullable = true)\n",
            " |-- total_tests_per_thousand: string (nullable = true)\n",
            " |-- new_tests_per_thousand: string (nullable = true)\n",
            " |-- new_tests_smoothed: string (nullable = true)\n",
            " |-- new_tests_smoothed_per_thousand: string (nullable = true)\n",
            " |-- positive_rate: string (nullable = true)\n",
            " |-- tests_per_case: string (nullable = true)\n",
            " |-- tests_units: string (nullable = true)\n",
            " |-- total_vaccinations: string (nullable = true)\n",
            " |-- people_vaccinated: string (nullable = true)\n",
            " |-- people_fully_vaccinated: string (nullable = true)\n",
            " |-- total_boosters: string (nullable = true)\n",
            " |-- new_vaccinations: string (nullable = true)\n",
            " |-- new_vaccinations_smoothed: string (nullable = true)\n",
            " |-- total_vaccinations_per_hundred: string (nullable = true)\n",
            " |-- people_vaccinated_per_hundred: string (nullable = true)\n",
            " |-- people_fully_vaccinated_per_hundred: string (nullable = true)\n",
            " |-- total_boosters_per_hundred: string (nullable = true)\n",
            " |-- new_vaccinations_smoothed_per_million: string (nullable = true)\n",
            " |-- stringency_index: string (nullable = true)\n",
            " |-- population: string (nullable = true)\n",
            " |-- population_density: string (nullable = true)\n",
            " |-- median_age: string (nullable = true)\n",
            " |-- aged_65_older: string (nullable = true)\n",
            " |-- aged_70_older: string (nullable = true)\n",
            " |-- gdp_per_capita: string (nullable = true)\n",
            " |-- extreme_poverty: string (nullable = true)\n",
            " |-- cardiovasc_death_rate: string (nullable = true)\n",
            " |-- diabetes_prevalence: string (nullable = true)\n",
            " |-- female_smokers: string (nullable = true)\n",
            " |-- male_smokers: string (nullable = true)\n",
            " |-- handwashing_facilities: string (nullable = true)\n",
            " |-- hospital_beds_per_thousand: string (nullable = true)\n",
            " |-- life_expectancy: string (nullable = true)\n",
            " |-- human_development_index: string (nullable = true)\n",
            " |-- excess_mortality_cumulative_absolute: string (nullable = true)\n",
            " |-- excess_mortality_cumulative: string (nullable = true)\n",
            " |-- excess_mortality: string (nullable = true)\n",
            "\n"
          ]
        }
      ]
    },
    {
      "cell_type": "markdown",
      "metadata": {
        "id": "vVgAdYeEl12V"
      },
      "source": [
        "Separate the new_vaccination info of the day before the current day from data table."
      ]
    },
    {
      "cell_type": "code",
      "metadata": {
        "id": "2MrjDNTD_Qwz",
        "colab": {
          "base_uri": "https://localhost:8080/"
        },
        "outputId": "a40c72d3-51df-49f7-98e4-224c5fc015a7"
      },
      "source": [
        "#transform\n",
        "sdfData.registerTempTable(\"vaccine\")\n",
        "\n",
        "vaccine_data = spark.sql('SELECT continent, Country, new_vaccinations, total_vaccinations, people_vaccinated, population from vaccine WHERE date = \"2021-09-22\"AND continent<>\"null\"' )\n",
        "\n",
        "\n",
        "vaccine_data.show(10)"
      ],
      "execution_count": 12,
      "outputs": [
        {
          "output_type": "stream",
          "name": "stdout",
          "text": [
            "+-------------+-------------------+----------------+------------------+-----------------+----------+\n",
            "|    continent|            Country|new_vaccinations|total_vaccinations|people_vaccinated|population|\n",
            "+-------------+-------------------+----------------+------------------+-----------------+----------+\n",
            "|         Asia|        Afghanistan|            null|              null|             null|39835428.0|\n",
            "|       Europe|            Albania|          8503.0|         1674093.0|         926652.0| 2872934.0|\n",
            "|       Africa|            Algeria|            null|              null|             null|44616626.0|\n",
            "|       Europe|            Andorra|            null|              null|             null|   77354.0|\n",
            "|       Africa|             Angola|            null|              null|             null|33933611.0|\n",
            "|North America|           Anguilla|            null|              null|             null|   15125.0|\n",
            "|North America|Antigua and Barbuda|            null|              null|             null|   98728.0|\n",
            "|South America|          Argentina|        397853.0|        49729347.0|       29157102.0|45605823.0|\n",
            "|         Asia|            Armenia|            null|              null|             null| 2968128.0|\n",
            "|North America|              Aruba|            26.0|          155119.0|          80907.0|  107195.0|\n",
            "+-------------+-------------------+----------------+------------------+-----------------+----------+\n",
            "only showing top 10 rows\n",
            "\n"
          ]
        }
      ]
    },
    {
      "cell_type": "markdown",
      "metadata": {
        "id": "XxAguzJWmNLX"
      },
      "source": [
        "Checking the schema of the new DataFrame"
      ]
    },
    {
      "cell_type": "code",
      "metadata": {
        "id": "Nm0S7ud4QhpS",
        "colab": {
          "base_uri": "https://localhost:8080/"
        },
        "outputId": "05550d04-088c-4024-a73c-50db75f5c797"
      },
      "source": [
        "vaccine_data.printSchema()"
      ],
      "execution_count": 13,
      "outputs": [
        {
          "output_type": "stream",
          "name": "stdout",
          "text": [
            "root\n",
            " |-- continent: string (nullable = true)\n",
            " |-- Country: string (nullable = true)\n",
            " |-- new_vaccinations: string (nullable = true)\n",
            " |-- total_vaccinations: string (nullable = true)\n",
            " |-- people_vaccinated: string (nullable = true)\n",
            " |-- population: string (nullable = true)\n",
            "\n"
          ]
        }
      ]
    },
    {
      "cell_type": "markdown",
      "metadata": {
        "id": "vOiV9P-wmSdE"
      },
      "source": [
        "Converting the string data type into the integer data type of new_vaccination data and population data."
      ]
    },
    {
      "cell_type": "code",
      "metadata": {
        "id": "eaysouxiQsFl"
      },
      "source": [
        "data = [\"new_vaccinations\", \"total_vaccinations\", \"people_vaccinated\", \"population\"]\n",
        "\n",
        "for i in data:\n",
        "    vaccine_data = vaccine_data.withColumn(i, vaccine_data[i].cast(IntegerType()))"
      ],
      "execution_count": 14,
      "outputs": []
    },
    {
      "cell_type": "markdown",
      "metadata": {
        "id": "Cz1JE6pLnHM4"
      },
      "source": [
        "Now again check the schema, and get the difference."
      ]
    },
    {
      "cell_type": "code",
      "metadata": {
        "id": "La4eXfooQsIb",
        "colab": {
          "base_uri": "https://localhost:8080/"
        },
        "outputId": "337afaf9-a730-4583-9eba-f7d0df9af159"
      },
      "source": [
        "vaccine_data.printSchema()"
      ],
      "execution_count": 15,
      "outputs": [
        {
          "output_type": "stream",
          "name": "stdout",
          "text": [
            "root\n",
            " |-- continent: string (nullable = true)\n",
            " |-- Country: string (nullable = true)\n",
            " |-- new_vaccinations: integer (nullable = true)\n",
            " |-- total_vaccinations: integer (nullable = true)\n",
            " |-- people_vaccinated: integer (nullable = true)\n",
            " |-- population: integer (nullable = true)\n",
            "\n"
          ]
        }
      ]
    },
    {
      "cell_type": "markdown",
      "metadata": {
        "id": "4RHpe3Chccpl"
      },
      "source": [
        "Now replace the null values with zero(0)"
      ]
    },
    {
      "cell_type": "code",
      "metadata": {
        "colab": {
          "base_uri": "https://localhost:8080/"
        },
        "id": "YHOJyAK_Sw1i",
        "outputId": "cf22f45b-9e8e-4aa2-a3ec-b95d4f6e485e"
      },
      "source": [
        "vaccine_data = vaccine_data.fillna(value=0)\n",
        "vaccine_data.show()"
      ],
      "execution_count": 16,
      "outputs": [
        {
          "output_type": "stream",
          "name": "stdout",
          "text": [
            "+-------------+-------------------+----------------+------------------+-----------------+----------+\n",
            "|    continent|            Country|new_vaccinations|total_vaccinations|people_vaccinated|population|\n",
            "+-------------+-------------------+----------------+------------------+-----------------+----------+\n",
            "|         Asia|        Afghanistan|               0|                 0|                0|  39835428|\n",
            "|       Europe|            Albania|            8503|           1674093|           926652|   2872934|\n",
            "|       Africa|            Algeria|               0|                 0|                0|  44616626|\n",
            "|       Europe|            Andorra|               0|                 0|                0|     77354|\n",
            "|       Africa|             Angola|               0|                 0|                0|  33933611|\n",
            "|North America|           Anguilla|               0|                 0|                0|     15125|\n",
            "|North America|Antigua and Barbuda|               0|                 0|                0|     98728|\n",
            "|South America|          Argentina|          397853|          49729347|         29157102|  45605823|\n",
            "|         Asia|            Armenia|               0|                 0|                0|   2968128|\n",
            "|North America|              Aruba|              26|            155119|            80907|    107195|\n",
            "|      Oceania|          Australia|          332010|          25445232|         15426525|  25788217|\n",
            "|       Europe|            Austria|           15167|          10747142|          5677710|   9043072|\n",
            "|         Asia|         Azerbaijan|           63462|           8106885|          4652121|  10223344|\n",
            "|North America|            Bahamas|               0|                 0|                0|    396914|\n",
            "|         Asia|            Bahrain|            3212|           2543817|          1162457|   1748295|\n",
            "|         Asia|         Bangladesh|          579894|          38516436|         23164422| 166303494|\n",
            "|North America|           Barbados|            1612|            228890|           128969|    287708|\n",
            "|       Europe|            Belarus|               0|                 0|                0|   9442867|\n",
            "|       Europe|            Belgium|           15874|          16522589|          8549218|  11632334|\n",
            "|North America|             Belize|               0|            293681|           185766|    404915|\n",
            "+-------------+-------------------+----------------+------------------+-----------------+----------+\n",
            "only showing top 20 rows\n",
            "\n"
          ]
        }
      ]
    },
    {
      "cell_type": "markdown",
      "metadata": {
        "id": "QHUquqRknlo9"
      },
      "source": [
        "Checking the DataFrame shape"
      ]
    },
    {
      "cell_type": "code",
      "metadata": {
        "id": "SwB_vWnRKz0B",
        "colab": {
          "base_uri": "https://localhost:8080/"
        },
        "outputId": "b91a04f3-0b82-4cd0-99df-e69e68c720e6"
      },
      "source": [
        "print((vaccine_data.count(), len(vaccine_data.columns)))"
      ],
      "execution_count": 17,
      "outputs": [
        {
          "output_type": "stream",
          "name": "stdout",
          "text": [
            "(202, 6)\n"
          ]
        }
      ]
    },
    {
      "cell_type": "markdown",
      "metadata": {
        "id": "2My4ZseJnrPt"
      },
      "source": [
        "Storing the pre-processed data into the data warehouse."
      ]
    },
    {
      "cell_type": "code",
      "metadata": {
        "id": "oZjQGvYUcaVJ"
      },
      "source": [
        "vaccine_data.coalesce(1).write.format(\"com.databricks.spark.csv\").option(\"header\", \"true\").save(\"vaccine_data.csv\")"
      ],
      "execution_count": 18,
      "outputs": []
    },
    {
      "cell_type": "markdown",
      "metadata": {
        "id": "-DoZHqzu6BdG"
      },
      "source": [
        "# Covid Data"
      ]
    },
    {
      "cell_type": "markdown",
      "metadata": {
        "id": "mY-K_PHmn7Hs"
      },
      "source": [
        "Load the csv file of covid data in **PySpark**"
      ]
    },
    {
      "cell_type": "code",
      "metadata": {
        "id": "tstfyR2m6her",
        "colab": {
          "base_uri": "https://localhost:8080/"
        },
        "outputId": "224280b3-e924-4b3d-d8b7-8075355432b9"
      },
      "source": [
        "spark = SparkSession.builder.appName('CSV reader').getOrCreate()\n",
        "\n",
        "#extract\n",
        "df = '/content/Covid_data.csv'\n",
        "covid_dfData = spark.read.csv(df, header=True, sep=\",\").cache()\n",
        "\n",
        "covid_dfData.show(4)"
      ],
      "execution_count": 19,
      "outputs": [
        {
          "output_type": "stream",
          "name": "stdout",
          "text": [
            "+-------------+-----------+--------+-----------+---------+--------------+------------+-----------+----------------+---------------+-------------+-----------+------------+-------------+\n",
            "|Country,Other| TotalCases|NewCases|TotalDeaths|NewDeaths|TotalRecovered|NewRecovered|ActiveCases|Serious,Critical|TotCases/1M pop|Deaths/1M pop| TotalTests|Tests/1M pop|   Population|\n",
            "+-------------+-----------+--------+-----------+---------+--------------+------------+-----------+----------------+---------------+-------------+-----------+------------+-------------+\n",
            "|        World|232,295,615| +43,541|  4,757,625|     +992|   208,911,749|     +49,825| 18,626,241|          94,836|         29,801|        610.4|       null|        null|         null|\n",
            "|          USA| 43,725,604|    null|    706,058|     null|    33,162,044|        null|  9,857,502|          22,377|        131,153|        2,118|631,838,920|   1,895,167|  333,394,863|\n",
            "|        India| 33,652,745|  +1,524|    446,948|     null|    32,902,351|      +7,589|    303,446|           8,944|         24,094|          320|563,243,245|     403,262|1,396,716,723|\n",
            "|       Brazil| 21,343,304|    null|    594,246|     null|    20,333,908|        null|    415,150|           8,318|         99,539|        2,771| 57,282,520|     267,149|  214,421,321|\n",
            "+-------------+-----------+--------+-----------+---------+--------------+------------+-----------+----------------+---------------+-------------+-----------+------------+-------------+\n",
            "only showing top 4 rows\n",
            "\n"
          ]
        }
      ]
    },
    {
      "cell_type": "markdown",
      "metadata": {
        "id": "orBTOJMpo-q_"
      },
      "source": [
        "Lets change the Column name from \"Country,other\" to \"Country\""
      ]
    },
    {
      "cell_type": "code",
      "metadata": {
        "colab": {
          "base_uri": "https://localhost:8080/"
        },
        "id": "jpu-xjvGpIBt",
        "outputId": "132a0dc3-22d1-4f61-f8b3-dff5403e2c05"
      },
      "source": [
        "covid_dfData = covid_dfData.withColumnRenamed(\"Country,Other\", \"Country\")\n",
        "covid_dfData.show(4)"
      ],
      "execution_count": 20,
      "outputs": [
        {
          "output_type": "stream",
          "name": "stdout",
          "text": [
            "+-------+-----------+--------+-----------+---------+--------------+------------+-----------+----------------+---------------+-------------+-----------+------------+-------------+\n",
            "|Country| TotalCases|NewCases|TotalDeaths|NewDeaths|TotalRecovered|NewRecovered|ActiveCases|Serious,Critical|TotCases/1M pop|Deaths/1M pop| TotalTests|Tests/1M pop|   Population|\n",
            "+-------+-----------+--------+-----------+---------+--------------+------------+-----------+----------------+---------------+-------------+-----------+------------+-------------+\n",
            "|  World|232,295,615| +43,541|  4,757,625|     +992|   208,911,749|     +49,825| 18,626,241|          94,836|         29,801|        610.4|       null|        null|         null|\n",
            "|    USA| 43,725,604|    null|    706,058|     null|    33,162,044|        null|  9,857,502|          22,377|        131,153|        2,118|631,838,920|   1,895,167|  333,394,863|\n",
            "|  India| 33,652,745|  +1,524|    446,948|     null|    32,902,351|      +7,589|    303,446|           8,944|         24,094|          320|563,243,245|     403,262|1,396,716,723|\n",
            "| Brazil| 21,343,304|    null|    594,246|     null|    20,333,908|        null|    415,150|           8,318|         99,539|        2,771| 57,282,520|     267,149|  214,421,321|\n",
            "+-------+-----------+--------+-----------+---------+--------------+------------+-----------+----------------+---------------+-------------+-----------+------------+-------------+\n",
            "only showing top 4 rows\n",
            "\n"
          ]
        }
      ]
    },
    {
      "cell_type": "markdown",
      "metadata": {
        "id": "cSLyYaYuoHP2"
      },
      "source": [
        "Separate the columns named \"Country\", \"TotalCases\", \"NewCases\", \"NewDeaths\", \"TotalDeaths\", \"TotalRecovered\" from the data frame. And convert them from string data type into integer data type, excxept the column named \"Country\"."
      ]
    },
    {
      "cell_type": "code",
      "metadata": {
        "id": "-oiW3IIVE6YS"
      },
      "source": [
        "covid_selected_data = covid_dfData[\"Country\", \"TotalCases\", \"NewCases\", \"NewDeaths\", \"TotalDeaths\", \"TotalRecovered\"]"
      ],
      "execution_count": 21,
      "outputs": []
    },
    {
      "cell_type": "code",
      "metadata": {
        "id": "G-n0mVcxDCPj"
      },
      "source": [
        "data = [\"TotalCases\", \"NewCases\", \"NewDeaths\", \"TotalDeaths\", \"TotalRecovered\"]\n",
        "\n",
        "for i in data:\n",
        "    covid_selected_data = covid_selected_data.withColumn(i, regexp_replace(i, ',', ''))\n",
        "    covid_selected_data = covid_selected_data.withColumn(i, covid_selected_data[i].cast(IntegerType()))"
      ],
      "execution_count": 22,
      "outputs": []
    },
    {
      "cell_type": "code",
      "metadata": {
        "colab": {
          "base_uri": "https://localhost:8080/"
        },
        "id": "y-TbH19QTLJn",
        "outputId": "c3e46999-2bed-41af-9b39-57ce4b208d34"
      },
      "source": [
        "covid_selected_data.printSchema()"
      ],
      "execution_count": 23,
      "outputs": [
        {
          "output_type": "stream",
          "name": "stdout",
          "text": [
            "root\n",
            " |-- Country: string (nullable = true)\n",
            " |-- TotalCases: integer (nullable = true)\n",
            " |-- NewCases: integer (nullable = true)\n",
            " |-- NewDeaths: integer (nullable = true)\n",
            " |-- TotalDeaths: integer (nullable = true)\n",
            " |-- TotalRecovered: integer (nullable = true)\n",
            "\n"
          ]
        }
      ]
    },
    {
      "cell_type": "code",
      "metadata": {
        "id": "-nj0qhU5FKPw",
        "colab": {
          "base_uri": "https://localhost:8080/"
        },
        "outputId": "743252c9-776a-4f0a-c59c-e0284fc1b307"
      },
      "source": [
        "covid_selected_data.show()"
      ],
      "execution_count": 24,
      "outputs": [
        {
          "output_type": "stream",
          "name": "stdout",
          "text": [
            "+------------+----------+--------+---------+-----------+--------------+\n",
            "|     Country|TotalCases|NewCases|NewDeaths|TotalDeaths|TotalRecovered|\n",
            "+------------+----------+--------+---------+-----------+--------------+\n",
            "|       World| 232295615|   43541|      992|    4757625|     208911749|\n",
            "|         USA|  43725604|    null|     null|     706058|      33162044|\n",
            "|       India|  33652745|    1524|     null|     446948|      32902351|\n",
            "|      Brazil|  21343304|    null|     null|     594246|      20333908|\n",
            "|          UK|   7631233|    null|     null|     136105|       6159135|\n",
            "|      Russia|   7398415|    null|     null|     203095|       6590933|\n",
            "|      Turkey|   7013639|    null|     null|      62938|       6472400|\n",
            "|      France|   6989613|    null|     null|     116449|       6720003|\n",
            "|        Iran|   5519728|    null|     null|     119082|       4920978|\n",
            "|   Argentina|   5249840|    null|     null|     114849|       5109853|\n",
            "|    Colombia|   4950253|    null|     null|     126102|       4790128|\n",
            "|       Spain|   4946601|    null|     null|      86229|       4708167|\n",
            "|       Italy|   4657215|    null|     null|     130653|       4423988|\n",
            "|   Indonesia|   4206253|    null|     null|     141381|       4020801|\n",
            "|     Germany|   4200990|    null|     null|      93966|       3958000|\n",
            "|      Mexico|   3628812|    9697|      596|     275299|       2978300|\n",
            "|      Poland|   2902591|    null|     null|      75571|       2660776|\n",
            "|South Africa|   2895976|    null|     null|      87001|       2758274|\n",
            "| Philippines|   2470235|    null|     null|      37405|       2267720|\n",
            "|     Ukraine|   2392397|    4647|       69|      55626|       2244192|\n",
            "+------------+----------+--------+---------+-----------+--------------+\n",
            "only showing top 20 rows\n",
            "\n"
          ]
        }
      ]
    },
    {
      "cell_type": "markdown",
      "metadata": {
        "id": "HacUYU8-ptV9"
      },
      "source": [
        "Fill the null value with zero(0)."
      ]
    },
    {
      "cell_type": "code",
      "metadata": {
        "id": "rmR_p8X4FPD5",
        "colab": {
          "base_uri": "https://localhost:8080/"
        },
        "outputId": "6c113922-f502-4189-8768-5f97713d70af"
      },
      "source": [
        "covid_selected_data = covid_selected_data.fillna(value=0)\n",
        "covid_selected_data.show(10)"
      ],
      "execution_count": 25,
      "outputs": [
        {
          "output_type": "stream",
          "name": "stdout",
          "text": [
            "+---------+----------+--------+---------+-----------+--------------+\n",
            "|  Country|TotalCases|NewCases|NewDeaths|TotalDeaths|TotalRecovered|\n",
            "+---------+----------+--------+---------+-----------+--------------+\n",
            "|    World| 232295615|   43541|      992|    4757625|     208911749|\n",
            "|      USA|  43725604|       0|        0|     706058|      33162044|\n",
            "|    India|  33652745|    1524|        0|     446948|      32902351|\n",
            "|   Brazil|  21343304|       0|        0|     594246|      20333908|\n",
            "|       UK|   7631233|       0|        0|     136105|       6159135|\n",
            "|   Russia|   7398415|       0|        0|     203095|       6590933|\n",
            "|   Turkey|   7013639|       0|        0|      62938|       6472400|\n",
            "|   France|   6989613|       0|        0|     116449|       6720003|\n",
            "|     Iran|   5519728|       0|        0|     119082|       4920978|\n",
            "|Argentina|   5249840|       0|        0|     114849|       5109853|\n",
            "+---------+----------+--------+---------+-----------+--------------+\n",
            "only showing top 10 rows\n",
            "\n"
          ]
        }
      ]
    },
    {
      "cell_type": "markdown",
      "metadata": {
        "id": "gAZkrgAbrEj8"
      },
      "source": [
        "Storing the pre-processed data into the data warehouse."
      ]
    },
    {
      "cell_type": "code",
      "metadata": {
        "id": "ftnStQvaq7pT"
      },
      "source": [
        "covid_selected_data.coalesce(1).write.format(\"com.databricks.spark.csv\").option(\"header\", \"true\").save(\"covid_data.csv\")"
      ],
      "execution_count": 26,
      "outputs": []
    },
    {
      "cell_type": "markdown",
      "metadata": {
        "id": "KhWC5cCvqv2E"
      },
      "source": [
        "# Now concatening these two datasets what we have pre-processed above. And process them."
      ]
    },
    {
      "cell_type": "code",
      "metadata": {
        "id": "IrvE6DjLNxj5",
        "colab": {
          "base_uri": "https://localhost:8080/"
        },
        "outputId": "e7695096-a1c7-4e56-802b-bdb2af4d4c92"
      },
      "source": [
        "final_df = covid_selected_data.join(vaccine_data, [\"Country\"], how=\"outer\")\n",
        "final_df.show()"
      ],
      "execution_count": 27,
      "outputs": [
        {
          "output_type": "stream",
          "name": "stdout",
          "text": [
            "+----------------+----------+--------+---------+-----------+--------------+-------------+----------------+------------------+-----------------+----------+\n",
            "|         Country|TotalCases|NewCases|NewDeaths|TotalDeaths|TotalRecovered|    continent|new_vaccinations|total_vaccinations|people_vaccinated|population|\n",
            "+----------------+----------+--------+---------+-----------+--------------+-------------+----------------+------------------+-----------------+----------+\n",
            "|            Chad|      5031|       0|        0|        174|          4850|       Africa|               0|                 0|                0|  16914985|\n",
            "|        Anguilla|       364|       0|        0|          1|           345|North America|               0|                 0|                0|     15125|\n",
            "|        Paraguay|    459804|       0|        0|      16142|        442632|South America|               0|                 0|                0|   7219641|\n",
            "|          Russia|   7398415|       0|        0|     203095|       6590933|       Europe|          429315|          88567925|         47285157| 145912022|\n",
            "|           Macao|        66|       0|        0|          0|            63|         null|            null|              null|             null|      null|\n",
            "|             CAR|     11371|       0|        0|        100|          6859|         null|            null|              null|             null|      null|\n",
            "|           World| 232295615|   43541|      992|    4757625|     208911749|         null|            null|              null|             null|      null|\n",
            "|           Yemen|      8891|       0|        0|       1682|          5500|         Asia|               0|                 0|                0|  30490639|\n",
            "|Turks and Caicos|      2830|       0|        0|         22|          2748|         null|            null|              null|             null|      null|\n",
            "|         Senegal|     73728|       0|        0|       1855|         71387|       Africa|               0|           1784832|          1219834|  17196308|\n",
            "|      Cabo Verde|     37400|       0|        0|        334|         36376|         null|            null|              null|             null|      null|\n",
            "|          Sweden|   1149407|       0|        0|      14781|       1108627|       Europe|           40135|          13532333|          7104072|  10160159|\n",
            "|        Kiribati|      null|    null|     null|       null|          null|      Oceania|               0|                 0|                0|    121388|\n",
            "|          Guyana|     30907|       0|        0|        754|         26246|South America|               0|                 0|                0|    790329|\n",
            "|         Eritrea|      6694|       0|        0|         42|          6628|       Africa|               0|                 0|                0|   3601462|\n",
            "|     Philippines|   2470235|       0|        0|      37405|       2267720|         Asia|               0|                 0|                0| 111046910|\n",
            "|        Djibouti|     12253|       0|        0|        162|         11838|       Africa|               0|             67229|            41142|   1002197|\n",
            "|        Malaysia|   2185131|       0|        0|      25159|       1968538|         Asia|          321342|          41247271|         22351561|  32776195|\n",
            "|       Singapore|     85953|       0|        0|         76|         74135|         Asia|           22702|           9199565|          4671857|   5896684|\n",
            "|            Fiji|     50701|       0|        0|        590|         36608|      Oceania|               0|                 0|                0|    902899|\n",
            "+----------------+----------+--------+---------+-----------+--------------+-------------+----------------+------------------+-----------------+----------+\n",
            "only showing top 20 rows\n",
            "\n"
          ]
        }
      ]
    },
    {
      "cell_type": "markdown",
      "metadata": {
        "id": "L0wOvVZOvBOm"
      },
      "source": [
        "Checking the final dataframe's size"
      ]
    },
    {
      "cell_type": "code",
      "metadata": {
        "id": "MNSe3zFoNxm0",
        "colab": {
          "base_uri": "https://localhost:8080/"
        },
        "outputId": "27413685-023d-4af6-c0e9-8a43791c2246"
      },
      "source": [
        "print((final_df.count(), len(final_df.columns)))"
      ],
      "execution_count": 28,
      "outputs": [
        {
          "output_type": "stream",
          "name": "stdout",
          "text": [
            "(240, 11)\n"
          ]
        }
      ]
    },
    {
      "cell_type": "markdown",
      "metadata": {
        "id": "uzGqGxxavWLz"
      },
      "source": [
        "Dropping all NA values from the column named \"Population\", so that we can get all country data except other data."
      ]
    },
    {
      "cell_type": "code",
      "metadata": {
        "id": "mQzrmVDGPkrI",
        "colab": {
          "base_uri": "https://localhost:8080/"
        },
        "outputId": "7816f508-483c-463e-85fb-8279640387e2"
      },
      "source": [
        "final_df = final_df.na.drop(subset=[\"population\"])\n",
        "final_df.show()"
      ],
      "execution_count": 29,
      "outputs": [
        {
          "output_type": "stream",
          "name": "stdout",
          "text": [
            "+-------------------+----------+--------+---------+-----------+--------------+-------------+----------------+------------------+-----------------+----------+\n",
            "|            Country|TotalCases|NewCases|NewDeaths|TotalDeaths|TotalRecovered|    continent|new_vaccinations|total_vaccinations|people_vaccinated|population|\n",
            "+-------------------+----------+--------+---------+-----------+--------------+-------------+----------------+------------------+-----------------+----------+\n",
            "|        Afghanistan|    155132|       0|        0|       7198|        123639|         Asia|               0|                 0|                0|  39835428|\n",
            "|            Albania|    167354|       0|        0|       2629|        152780|       Europe|            8503|           1674093|           926652|   2872934|\n",
            "|            Algeria|    202574|       0|        0|       5767|        138737|       Africa|               0|                 0|                0|  44616626|\n",
            "|            Andorra|     15167|       0|        0|        130|         14966|       Europe|               0|                 0|                0|     77354|\n",
            "|             Angola|     54795|       0|        0|       1487|         47194|       Africa|               0|                 0|                0|  33933611|\n",
            "|           Anguilla|       364|       0|        0|          1|           345|North America|               0|                 0|                0|     15125|\n",
            "|Antigua and Barbuda|      2902|       0|        0|         64|          1854|North America|               0|                 0|                0|     98728|\n",
            "|          Argentina|   5249840|       0|        0|     114849|       5109853|South America|          397853|          49729347|         29157102|  45605823|\n",
            "|            Armenia|    257620|       0|        0|       5239|        239113|         Asia|               0|                 0|                0|   2968128|\n",
            "|              Aruba|     15405|       0|        0|        165|         14970|North America|              26|            155119|            80907|    107195|\n",
            "|          Australia|     97550|    1743|       11|       1231|         74781|      Oceania|          332010|          25445232|         15426525|  25788217|\n",
            "|            Austria|    734302|       0|        0|      10961|        702343|       Europe|           15167|          10747142|          5677710|   9043072|\n",
            "|         Azerbaijan|    479814|       0|        0|       6433|        449047|         Asia|           63462|           8106885|          4652121|  10223344|\n",
            "|            Bahamas|     20603|       0|        0|        522|         18265|North America|               0|                 0|                0|    396914|\n",
            "|            Bahrain|    274745|       0|        0|       1389|        272626|         Asia|            3212|           2543817|          1162457|   1748295|\n",
            "|         Bangladesh|   1550371|       0|        0|      27393|       1510167|         Asia|          579894|          38516436|         23164422| 166303494|\n",
            "|           Barbados|      7401|       0|        0|         64|          6363|North America|            1612|            228890|           128969|    287708|\n",
            "|            Belarus|    528229|       0|        0|       4081|        511666|       Europe|               0|                 0|                0|   9442867|\n",
            "|            Belgium|   1233723|       0|        0|      25554|       1144670|       Europe|           15874|          16522589|          8549218|  11632334|\n",
            "|             Belize|     19600|       0|        0|        402|         17247|North America|               0|            293681|           185766|    404915|\n",
            "+-------------------+----------+--------+---------+-----------+--------------+-------------+----------------+------------------+-----------------+----------+\n",
            "only showing top 20 rows\n",
            "\n"
          ]
        }
      ]
    },
    {
      "cell_type": "markdown",
      "metadata": {
        "id": "5b5tSIvvvqlR"
      },
      "source": [
        "Now checking again the dataframe's size"
      ]
    },
    {
      "cell_type": "code",
      "metadata": {
        "id": "NtnUJ5sxPktn",
        "colab": {
          "base_uri": "https://localhost:8080/"
        },
        "outputId": "78b6e146-6654-4011-d398-b049f116b405"
      },
      "source": [
        "print((final_df.count(), len(final_df.columns)))"
      ],
      "execution_count": 30,
      "outputs": [
        {
          "output_type": "stream",
          "name": "stdout",
          "text": [
            "(202, 11)\n"
          ]
        }
      ]
    },
    {
      "cell_type": "markdown",
      "metadata": {
        "id": "zmvCFio3xP05"
      },
      "source": [
        "The following code is to get the list data of any particular column. Here we tried to get the distinct data of continent column."
      ]
    },
    {
      "cell_type": "code",
      "metadata": {
        "id": "81ZQKa-bOW5o",
        "colab": {
          "base_uri": "https://localhost:8080/"
        },
        "outputId": "5250916b-ea45-43bf-e8ab-7035c913c62e"
      },
      "source": [
        "continent = final_df.select(\"continent\").distinct().rdd.flatMap(list).collect()\n",
        "print(\"Total number of continent: \",len(continent))\n",
        "print(continent)"
      ],
      "execution_count": 31,
      "outputs": [
        {
          "output_type": "stream",
          "name": "stdout",
          "text": [
            "Total number of continent:  6\n",
            "['Europe', 'Africa', 'North America', 'South America', 'Oceania', 'Asia']\n"
          ]
        }
      ]
    },
    {
      "cell_type": "markdown",
      "metadata": {
        "id": "qnY2Smcyc-wU"
      },
      "source": [
        "Getting the distinct data of country column."
      ]
    },
    {
      "cell_type": "code",
      "metadata": {
        "colab": {
          "base_uri": "https://localhost:8080/"
        },
        "id": "_pnDVsEDUnbm",
        "outputId": "30e28ef9-c724-4858-adeb-5f65f88679e8"
      },
      "source": [
        "country = final_df.select(\"country\").distinct().rdd.flatMap(list).collect()\n",
        "print(\"Total number of country: \",len(country))\n",
        "print(country)"
      ],
      "execution_count": 32,
      "outputs": [
        {
          "output_type": "stream",
          "name": "stdout",
          "text": [
            "Total number of country:  202\n",
            "['Chad', 'Anguilla', 'Paraguay', 'Russia', 'Yemen', 'Senegal', 'Sweden', 'Kiribati', 'Guyana', 'Eritrea', 'Philippines', 'Djibouti', 'Malaysia', 'Singapore', 'Fiji', 'Turkey', 'Malawi', 'Iraq', 'Germany', 'Comoros', 'Afghanistan', 'Cambodia', 'Jordan', 'Maldives', 'Rwanda', 'Sudan', 'Palau', 'France', 'Greece', 'Kosovo', 'Sri Lanka', 'Dominica', 'Taiwan', 'Algeria', 'Equatorial Guinea', 'Togo', 'Slovakia', 'Argentina', 'Angola', 'Belgium', 'Vatican', 'San Marino', 'Ecuador', 'Qatar', 'Lesotho', 'Albania', 'Madagascar', 'Finland', 'Ghana', 'Myanmar', 'Nicaragua', 'Guernsey', 'Benin', 'Peru', 'Sierra Leone', 'Bahamas', 'China', 'Curacao', 'India', 'United States', 'Belarus', 'Kuwait', 'Malta', 'Sao Tome and Principe', 'Marshall Islands', 'Somalia', 'Chile', 'Tajikistan', 'Cayman Islands', 'Isle of Man', 'Croatia', 'Burundi', 'Andorra', 'Bolivia', 'Nigeria', 'Gabon', 'Italy', 'Suriname', 'Lithuania', 'Norway', 'Spain', 'Cuba', 'Mauritania', 'Czechia', 'Central African Republic', 'Denmark', 'Niger', 'Bangladesh', 'Barbados', 'Iran', 'Ireland', 'Congo', 'Liechtenstein', 'Laos', 'Thailand', 'Bhutan', 'Monaco', 'Morocco', 'Cape Verde', 'Panama', 'Hong Kong', 'Ukraine', 'Venezuela', 'Iceland', 'Israel', 'Saint Kitts and Nevis', 'Faeroe Islands', 'Oman', 'South Korea', 'Cyprus', 'Palestine', 'Uruguay', \"Cote d'Ivoire\", 'Mexico', 'Aruba', 'Estonia', 'Georgia', 'Montenegro', 'Zimbabwe', 'Indonesia', 'Saint Vincent and the Grenadines', 'Guatemala', 'Mongolia', 'Azerbaijan', 'Libya', 'Grenada', 'Armenia', 'Liberia', 'Tunisia', 'Honduras', 'Syria', 'Trinidad and Tobago', 'Saudi Arabia', 'Uganda', 'Namibia', 'Switzerland', 'Zambia', 'Ethiopia', 'Eswatini', 'Jamaica', 'Latvia', 'Brunei', 'South Sudan', 'United Arab Emirates', 'Saint Lucia', 'Guinea', 'Canada', 'Timor', 'Seychelles', 'Kyrgyzstan', 'North Macedonia', 'Samoa', 'Uzbekistan', 'Mozambique', 'Belize', 'Brazil', 'Gambia', 'Kenya', 'Lebanon', 'Antigua and Barbuda', 'Slovenia', 'Dominican Republic', 'Botswana', 'Japan', 'Tanzania', 'Luxembourg', 'New Zealand', 'Bosnia and Herzegovina', 'Greenland', 'Haiti', 'Poland', 'Micronesia (country)', 'Portugal', 'Australia', 'Cameroon', 'Papua New Guinea', 'Guinea-Bissau', 'Romania', 'Bulgaria', 'Solomon Islands', 'Austria', 'Nepal', 'Costa Rica', 'Egypt', 'El Salvador', 'Kazakhstan', 'Serbia', 'Burkina Faso', 'South Africa', 'Bermuda', 'Bahrain', 'Colombia', 'Hungary', 'Democratic Republic of Congo', 'Pakistan', 'Vanuatu', 'Mauritius', 'Moldova', 'United Kingdom', 'Vietnam', 'Mali', 'Netherlands']\n"
          ]
        }
      ]
    },
    {
      "cell_type": "markdown",
      "metadata": {
        "id": "3Vk1uuaQdGyM"
      },
      "source": [
        "Save the data to the data warehouse"
      ]
    },
    {
      "cell_type": "code",
      "metadata": {
        "id": "tdVacrpkyNLO"
      },
      "source": [
        "final_df.coalesce(1).write.format(\"com.databricks.spark.csv\").option(\"header\", \"true\").save(\"final_df_data.csv\")"
      ],
      "execution_count": 33,
      "outputs": []
    },
    {
      "cell_type": "markdown",
      "metadata": {
        "id": "WGDn7uVOVHg2"
      },
      "source": [
        "# Visualising the Data"
      ]
    },
    {
      "cell_type": "markdown",
      "metadata": {
        "id": "aiajYzBWdMg1"
      },
      "source": [
        "Import libraries"
      ]
    },
    {
      "cell_type": "code",
      "metadata": {
        "id": "As_xq75UyNOo"
      },
      "source": [
        "%matplotlib inline\n",
        "import matplotlib.pyplot as plt"
      ],
      "execution_count": 34,
      "outputs": []
    },
    {
      "cell_type": "markdown",
      "metadata": {
        "id": "BQW64IWodO_j"
      },
      "source": [
        "Load the final dataset from data warehouse"
      ]
    },
    {
      "cell_type": "code",
      "metadata": {
        "colab": {
          "base_uri": "https://localhost:8080/"
        },
        "id": "dE7dP63UX7SW",
        "outputId": "a9381c3b-1690-4b4c-a1dd-a0d6bff98a62"
      },
      "source": [
        "spark = SparkSession.builder.appName('CSV reader').getOrCreate()\n",
        "\n",
        "#extract\n",
        "df = '/content/final_df_data.csv'\n",
        "final_data = spark.read.csv(df, header=True, sep=\",\").cache()\n",
        "\n",
        "final_data.show(40)"
      ],
      "execution_count": 35,
      "outputs": [
        {
          "output_type": "stream",
          "name": "stdout",
          "text": [
            "+--------------------+----------+--------+---------+-----------+--------------+-------------+----------------+------------------+-----------------+----------+\n",
            "|             Country|TotalCases|NewCases|NewDeaths|TotalDeaths|TotalRecovered|    continent|new_vaccinations|total_vaccinations|people_vaccinated|population|\n",
            "+--------------------+----------+--------+---------+-----------+--------------+-------------+----------------+------------------+-----------------+----------+\n",
            "|         Afghanistan|    155132|       0|        0|       7198|        123639|         Asia|               0|                 0|                0|  39835428|\n",
            "|             Albania|    167354|       0|        0|       2629|        152780|       Europe|            8503|           1674093|           926652|   2872934|\n",
            "|             Algeria|    202574|       0|        0|       5767|        138737|       Africa|               0|                 0|                0|  44616626|\n",
            "|             Andorra|     15167|       0|        0|        130|         14966|       Europe|               0|                 0|                0|     77354|\n",
            "|              Angola|     54795|       0|        0|       1487|         47194|       Africa|               0|                 0|                0|  33933611|\n",
            "|            Anguilla|       364|       0|        0|          1|           345|North America|               0|                 0|                0|     15125|\n",
            "| Antigua and Barbuda|      2902|       0|        0|         64|          1854|North America|               0|                 0|                0|     98728|\n",
            "|           Argentina|   5249840|       0|        0|     114849|       5109853|South America|          397853|          49729347|         29157102|  45605823|\n",
            "|             Armenia|    257620|       0|        0|       5239|        239113|         Asia|               0|                 0|                0|   2968128|\n",
            "|               Aruba|     15405|       0|        0|        165|         14970|North America|              26|            155119|            80907|    107195|\n",
            "|           Australia|     97550|    1743|       11|       1231|         74781|      Oceania|          332010|          25445232|         15426525|  25788217|\n",
            "|             Austria|    734302|       0|        0|      10961|        702343|       Europe|           15167|          10747142|          5677710|   9043072|\n",
            "|          Azerbaijan|    479814|       0|        0|       6433|        449047|         Asia|           63462|           8106885|          4652121|  10223344|\n",
            "|             Bahamas|     20603|       0|        0|        522|         18265|North America|               0|                 0|                0|    396914|\n",
            "|             Bahrain|    274745|       0|        0|       1389|        272626|         Asia|            3212|           2543817|          1162457|   1748295|\n",
            "|          Bangladesh|   1550371|       0|        0|      27393|       1510167|         Asia|          579894|          38516436|         23164422| 166303494|\n",
            "|            Barbados|      7401|       0|        0|         64|          6363|North America|            1612|            228890|           128969|    287708|\n",
            "|             Belarus|    528229|       0|        0|       4081|        511666|       Europe|               0|                 0|                0|   9442867|\n",
            "|             Belgium|   1233723|       0|        0|      25554|       1144670|       Europe|           15874|          16522589|          8549218|  11632334|\n",
            "|              Belize|     19600|       0|        0|        402|         17247|North America|               0|            293681|           185766|    404915|\n",
            "|               Benin|     22958|       0|        0|        154|         17294|       Africa|               0|                 0|                0|  12451031|\n",
            "|             Bermuda|      4982|       0|        0|         52|          3318|North America|               0|                 0|                0|     62092|\n",
            "|              Bhutan|      2599|       0|        0|          3|          2593|         Asia|               0|                 0|                0|    779900|\n",
            "|             Bolivia|    498790|     195|        2|      18698|        456913|South America|               0|                 0|                0|  11832936|\n",
            "|Bosnia and Herzeg...|    230801|       0|        0|      10422|        192218|       Europe|               0|                 0|                0|   3263459|\n",
            "|            Botswana|    176427|       0|        0|       2360|        172051|       Africa|               0|            606699|           380093|   2397240|\n",
            "|              Brazil|  21343304|       0|        0|     594246|      20333908|South America|               0|                 0|                0| 213993441|\n",
            "|              Brunei|      6286|       0|        0|         37|          4188|         Asia|               0|            432882|           262982|    441532|\n",
            "|            Bulgaria|    492365|       0|        0|      20449|        429507|       Europe|            1858|           2483134|                0|   6896655|\n",
            "|        Burkina Faso|     14131|       0|        0|        180|         13800|       Africa|               0|            254545|           234490|  21497097|\n",
            "|             Burundi|     16356|       0|        0|         38|           773|       Africa|               0|                 0|                0|  12255429|\n",
            "|            Cambodia|    109087|     830|       25|       2243|        100655|         Asia|          281153|          23099813|         12666817|  16946446|\n",
            "|            Cameroon|     85414|       0|        0|       1368|         80433|       Africa|               0|            459397|           376195|  27224262|\n",
            "|              Canada|   1600901|       0|        0|      27640|       1527573|North America|          102015|          55410398|         28854095|  38067913|\n",
            "|          Cape Verde|      null|    null|     null|       null|          null|       Africa|               0|            402075|           282236|    561901|\n",
            "|      Cayman Islands|       795|       0|        0|          2|           747|North America|             226|            105697|            54796|     66498|\n",
            "|Central African R...|      null|    null|     null|       null|          null|       Africa|               0|            150393|           140492|   4919987|\n",
            "|                Chad|      5031|       0|        0|        174|          4850|       Africa|               0|                 0|                0|  16914985|\n",
            "|               Chile|   1650985|       0|        0|      37432|       1606490|South America|          165964|          31259116|         14881446|  19212362|\n",
            "|               China|     96015|      29|        0|       4636|         90366|         Asia|         3979000|                 0|                0|1444216102|\n",
            "+--------------------+----------+--------+---------+-----------+--------------+-------------+----------------+------------------+-----------------+----------+\n",
            "only showing top 40 rows\n",
            "\n"
          ]
        }
      ]
    },
    {
      "cell_type": "markdown",
      "metadata": {
        "id": "RGft2rlk-IoP"
      },
      "source": [
        "Checking if there are any inetger column in string format."
      ]
    },
    {
      "cell_type": "code",
      "metadata": {
        "colab": {
          "base_uri": "https://localhost:8080/"
        },
        "id": "_3Rve4Cf-HYZ",
        "outputId": "80603bc2-cc92-44cd-90c6-e8466aa84781"
      },
      "source": [
        "final_data.printSchema()"
      ],
      "execution_count": 36,
      "outputs": [
        {
          "output_type": "stream",
          "name": "stdout",
          "text": [
            "root\n",
            " |-- Country: string (nullable = true)\n",
            " |-- TotalCases: string (nullable = true)\n",
            " |-- NewCases: string (nullable = true)\n",
            " |-- NewDeaths: string (nullable = true)\n",
            " |-- TotalDeaths: string (nullable = true)\n",
            " |-- TotalRecovered: string (nullable = true)\n",
            " |-- continent: string (nullable = true)\n",
            " |-- new_vaccinations: string (nullable = true)\n",
            " |-- total_vaccinations: string (nullable = true)\n",
            " |-- people_vaccinated: string (nullable = true)\n",
            " |-- population: string (nullable = true)\n",
            "\n"
          ]
        }
      ]
    },
    {
      "cell_type": "markdown",
      "metadata": {
        "id": "6t6SuQUf9yn1"
      },
      "source": [
        "Since there are some string columns yet. So first convert them into integer type, and then replace null value with 0."
      ]
    },
    {
      "cell_type": "code",
      "metadata": {
        "id": "74rREkQO5Yat"
      },
      "source": [
        "data = [\"TotalCases\", \"NewCases\", \"NewDeaths\", \"TotalDeaths\", \"TotalRecovered\", \"new_vaccinations\", \"total_vaccinations\", \"people_vaccinated\", \"population\"]\n",
        "\n",
        "for i in data:\n",
        "    final_data = final_data.withColumn(i, final_data[i].cast(IntegerType()))"
      ],
      "execution_count": 37,
      "outputs": []
    },
    {
      "cell_type": "code",
      "metadata": {
        "colab": {
          "base_uri": "https://localhost:8080/"
        },
        "id": "QX63L0oJzO3o",
        "outputId": "3a748b7f-cff1-4348-caa3-f4a684dec72a"
      },
      "source": [
        "final_data.printSchema()"
      ],
      "execution_count": 38,
      "outputs": [
        {
          "output_type": "stream",
          "name": "stdout",
          "text": [
            "root\n",
            " |-- Country: string (nullable = true)\n",
            " |-- TotalCases: integer (nullable = true)\n",
            " |-- NewCases: integer (nullable = true)\n",
            " |-- NewDeaths: integer (nullable = true)\n",
            " |-- TotalDeaths: integer (nullable = true)\n",
            " |-- TotalRecovered: integer (nullable = true)\n",
            " |-- continent: string (nullable = true)\n",
            " |-- new_vaccinations: integer (nullable = true)\n",
            " |-- total_vaccinations: integer (nullable = true)\n",
            " |-- people_vaccinated: integer (nullable = true)\n",
            " |-- population: integer (nullable = true)\n",
            "\n"
          ]
        }
      ]
    },
    {
      "cell_type": "code",
      "metadata": {
        "id": "WlChhHUb4iMA"
      },
      "source": [
        "final_data = final_data.na.fill(value=0)"
      ],
      "execution_count": 39,
      "outputs": []
    },
    {
      "cell_type": "markdown",
      "metadata": {
        "id": "Mpl8H77j-aEY"
      },
      "source": [
        "***Total Death analysis on different continent.***"
      ]
    },
    {
      "cell_type": "markdown",
      "metadata": {
        "id": "mCEt1_h9-tDK"
      },
      "source": [
        "Separate them from the data table."
      ]
    },
    {
      "cell_type": "code",
      "metadata": {
        "colab": {
          "base_uri": "https://localhost:8080/"
        },
        "id": "TS5kU8W1yNSx",
        "outputId": "cf2e40be-62da-4fba-affe-81a6480ad76b"
      },
      "source": [
        "final_data.registerTempTable(\"final_data\")\n",
        "c = spark.sql(\"SELECT continent, SUM(TotalDeaths) as TotalDeaths, \\\n",
        "              SUM(total_vaccinations) as total_vaccinations, \\\n",
        "              SUM(TotalRecovered) as TotalRecovered \\\n",
        "              FROM final_data \\\n",
        "              GROUP BY continent\")\n",
        "c.show()"
      ],
      "execution_count": 40,
      "outputs": [
        {
          "output_type": "stream",
          "name": "stdout",
          "text": [
            "+-------------+-----------+------------------+--------------+\n",
            "|    continent|TotalDeaths|total_vaccinations|TotalRecovered|\n",
            "+-------------+-----------+------------------+--------------+\n",
            "|       Europe|    1078914|         643484827|      47393918|\n",
            "|       Africa|     206418|         113370061|       7407532|\n",
            "|North America|     359393|         597598113|       7428456|\n",
            "|South America|    1151463|         171506192|      33963322|\n",
            "|      Oceania|       2074|          25445232|        133609|\n",
            "|         Asia|    1107082|        1532664954|      70248777|\n",
            "+-------------+-----------+------------------+--------------+\n",
            "\n"
          ]
        }
      ]
    },
    {
      "cell_type": "markdown",
      "metadata": {
        "id": "xfnvEWZq-xgX"
      },
      "source": [
        "Storing the data into the variables, so that later we can plot them."
      ]
    },
    {
      "cell_type": "code",
      "metadata": {
        "id": "XvoDT2o07IJ8"
      },
      "source": [
        "total_death = c.select(\"TotalDeaths\").rdd.flatMap(list).collect()\n",
        "continent = c.select(\"continent\").rdd.flatMap(list).collect()\n",
        "total_vaccinations = c.select(\"total_vaccinations\").rdd.flatMap(list).collect()\n",
        "TotalRecovered = c.select(\"TotalRecovered\").rdd.flatMap(list).collect()"
      ],
      "execution_count": 41,
      "outputs": []
    },
    {
      "cell_type": "markdown",
      "metadata": {
        "id": "DRvkaiVj-5jT"
      },
      "source": [
        "Visualizing the death rate on every region by Pie Chart."
      ]
    },
    {
      "cell_type": "code",
      "metadata": {
        "colab": {
          "base_uri": "https://localhost:8080/",
          "height": 591
        },
        "id": "DZ-m5X9bWTYZ",
        "outputId": "9841339d-65bc-4cf4-f8cd-5bd04f67868d"
      },
      "source": [
        "fig = plt.figure(figsize=(12, 10))\n",
        "plt.pie(total_death, autopct='%1.1f%%', startangle=140, radius=1, labels=continent)\n",
        "plt.title(\"The number of Total Death in percentage according to the continent\")\n",
        "plt.legend()\n",
        "plt.show()"
      ],
      "execution_count": 42,
      "outputs": [
        {
          "output_type": "display_data",
          "data": {
            "image/png": "[encoded data removed]",
            "text/plain": [
              "<Figure size 864x720 with 1 Axes>"
            ]
          },
          "metadata": {}
        }
      ]
    },
    {
      "cell_type": "markdown",
      "metadata": {
        "id": "crTRb_rC18DJ"
      },
      "source": [
        "Visualizing the vaccination rate on every region in Bar plot."
      ]
    },
    {
      "cell_type": "code",
      "metadata": {
        "colab": {
          "base_uri": "https://localhost:8080/",
          "height": 404
        },
        "id": "FVnxxTQDWTdS",
        "outputId": "014442a0-bc08-4ce3-d8dc-e6085c992b55"
      },
      "source": [
        "fig = plt.figure(figsize=(12, 6))\n",
        "\n",
        "plt.bar(continent,total_vaccinations)\n",
        "plt.xlabel(\"Continent\")\n",
        "plt.ylabel(\"Total Vaccination\")\n",
        "plt.title(\"The number of Total vaccination vs continent\")\n",
        "plt.show()"
      ],
      "execution_count": 45,
      "outputs": [
        {
          "output_type": "display_data",
          "data": {
            "image/png": "[encoded data removed]",
            "text/plain": [
              "<Figure size 864x432 with 1 Axes>"
            ]
          },
          "metadata": {
            "needs_background": "light"
          }
        }
      ]
    },
    {
      "cell_type": "markdown",
      "metadata": {
        "id": "htjBwmygCsye"
      },
      "source": [
        "A graphical presentation of the Covid-19 scenario on every region."
      ]
    },
    {
      "cell_type": "code",
      "metadata": {
        "colab": {
          "base_uri": "https://localhost:8080/",
          "height": 513
        },
        "id": "wUr9HL6RA-5N",
        "outputId": "cf98205f-2d33-405f-a28f-a8e8040e08b2"
      },
      "source": [
        "fig = plt.figure(figsize=(10, 8))\n",
        "\n",
        "plt.plot(continent,total_vaccinations, \"y--\", label=\"Total Vaccination\")\n",
        "plt.plot(continent,total_death, \"r--\", label=\"Total Death\")\n",
        "plt.plot(continent,TotalRecovered, \"g--\", label=\"Total Recovered\")\n",
        "plt.xlabel(\"Continent\")\n",
        "plt.legend()\n",
        "plt.title(\"The graphical view of death, vaccination and recovery rate in every region\")\n",
        "plt.show()"
      ],
      "execution_count": 51,
      "outputs": [
        {
          "output_type": "display_data",
          "data": {
            "image/png": "[encoded data removed]",
            "text/plain": [
              "<Figure size 720x576 with 1 Axes>"
            ]
          },
          "metadata": {
            "needs_background": "light"
          }
        }
      ]
    }
  ]
}